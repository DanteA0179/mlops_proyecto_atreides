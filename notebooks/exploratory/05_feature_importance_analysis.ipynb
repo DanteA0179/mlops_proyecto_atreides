{
 "cells": [
  {
   "cell_type": "markdown",
   "metadata": {},
   "source": [
    "# Análisis de Importancia de Features - Consumo Energético Industrial\n",
    "\n",
    "## Introducción\n",
    "\n",
    "Este notebook presenta un análisis preliminar de importancia de features para el dataset de consumo energético de la industria siderúrgica. El objetivo es identificar qué variables predictoras tienen mayor poder explicativo sobre el consumo energético (`Usage_kWh`), permitiendo priorizar esfuerzos en feature engineering y selección de modelos.\n",
    "\n",
    "### Objetivos del Análisis\n",
    "\n",
    "1. **Calcular Mutual Information Scores**: Identificar relaciones no lineales entre features y el target\n",
    "2. **Calcular Correlaciones de Pearson**: Identificar relaciones lineales con el consumo energético\n",
    "3. **Comparar Métodos**: Identificar features que aparecen consistentemente en ambos rankings\n",
    "4. **Visualizar Resultados**: Generar gráficos interpretables para comunicar hallazgos\n",
    "5. **Documentar Insights**: Proporcionar recomendaciones accionables para feature engineering\n",
    "\n",
    "### Métricas Utilizadas\n",
    "\n",
    "- **Mutual Information (MI)**: Mide la dependencia mutua entre una feature y el target, capturando relaciones tanto lineales como no lineales. Valores más altos indican mayor poder predictivo.\n",
    "- **Correlación de Pearson**: Mide la relación lineal entre una feature numérica y el target. Valores cercanos a +1 o -1 indican fuerte correlación lineal."
   ]
  },
  {
   "cell_type": "markdown",
   "metadata": {},
   "source": [
    "## 1. Configuración del Entorno"
   ]
  },
  {
   "cell_type": "code",
   "execution_count": 1,
   "metadata": {},
   "outputs": [
    {
     "name": "stdout",
     "output_type": "stream",
     "text": [
      "✓ Entorno configurado correctamente\n",
      "✓ Polars version: 1.34.0\n"
     ]
    }
   ],
   "source": [
    "# Imports estándar\n",
    "import sys\n",
    "import warnings\n",
    "from pathlib import Path\n",
    "\n",
    "# Agregar src al path para imports\n",
    "sys.path.append(str(Path.cwd().parent.parent))\n",
    "\n",
    "# Imports de análisis de datos\n",
    "import polars as pl\n",
    "import numpy as np\n",
    "import matplotlib.pyplot as plt\n",
    "import seaborn as sns\n",
    "\n",
    "# Imports de módulos propios\n",
    "from src.utils.feature_importance import (\n",
    "    calculate_mutual_information,\n",
    "    calculate_pearson_correlation,\n",
    "    plot_feature_importance,\n",
    "    get_top_features,\n",
    "    compare_importance_methods\n",
    ")\n",
    "\n",
    "# Configuración de warnings\n",
    "warnings.filterwarnings('ignore')\n",
    "\n",
    "# Configuración de Polars\n",
    "pl.Config.set_tbl_rows(20)\n",
    "pl.Config.set_fmt_str_lengths(100)\n",
    "\n",
    "# Configuración de visualización\n",
    "plt.style.use('seaborn-v0_8-darkgrid')\n",
    "sns.set_palette(\"husl\")\n",
    "plt.rcParams['figure.figsize'] = (12, 6)\n",
    "plt.rcParams['font.size'] = 10\n",
    "\n",
    "print(\"✓ Entorno configurado correctamente\")\n",
    "print(f\"✓ Polars version: {pl.__version__}\")"
   ]
  },
  {
   "cell_type": "markdown",
   "metadata": {},
   "source": [
    "## 2. Carga de Datos\n",
    "\n",
    "Los datos provienen del archivo **Parquet versionado con DVC** ubicado en `data/processed/steel_cleaned.parquet`. Este archivo contiene el dataset limpio de consumo energético de la industria siderúrgica con las siguientes características:\n",
    "\n",
    "- **Formato**: Parquet (columnar, comprimido)\n",
    "- **Versionado**: Controlado con DVC para reproducibilidad\n",
    "- **Contenido**: Variables de consumo energético, factores de potencia, emisiones de CO2, y variables temporales"
   ]
  },
  {
   "cell_type": "code",
   "execution_count": 2,
   "metadata": {},
   "outputs": [
    {
     "name": "stdout",
     "output_type": "stream",
     "text": [
      "✓ Datos cargados exitosamente desde: ../../data/processed/steel_cleaned.parquet\n",
      "\n",
      "Dimensiones del DataFrame: 34,910 filas × 11 columnas\n"
     ]
    }
   ],
   "source": [
    "# Cargar datos desde Parquet\n",
    "data_path = \"../../data/processed/steel_cleaned.parquet\"\n",
    "df = pl.read_parquet(data_path)\n",
    "\n",
    "print(f\"✓ Datos cargados exitosamente desde: {data_path}\")\n",
    "print(f\"\\nDimensiones del DataFrame: {df.shape[0]:,} filas × {df.shape[1]} columnas\")"
   ]
  },
  {
   "cell_type": "code",
   "execution_count": 3,
   "metadata": {},
   "outputs": [
    {
     "name": "stdout",
     "output_type": "stream",
     "text": [
      "\n",
      "=== Información de Columnas ===\n",
      "\n",
      "Total de columnas: 11\n",
      "\n",
      "Columnas numéricas: 7\n",
      "Columnas categóricas: 4\n",
      "\n",
      "=== Schema del DataFrame ===\n",
      "  date                                          : String\n",
      "  Usage_kWh                                     : Float64\n",
      "  Lagging_Current_Reactive.Power_kVarh          : Float64\n",
      "  Leading_Current_Reactive_Power_kVarh          : Float64\n",
      "  CO2(tCO2)                                     : Float64\n",
      "  Lagging_Current_Power_Factor                  : Float64\n",
      "  Leading_Current_Power_Factor                  : Float64\n",
      "  NSM                                           : Int64\n",
      "  WeekStatus                                    : String\n",
      "  Day_of_week                                   : String\n",
      "  Load_Type                                     : String\n"
     ]
    }
   ],
   "source": [
    "# Información de columnas y tipos de datos\n",
    "print(\"\\n=== Información de Columnas ===\")\n",
    "print(f\"\\nTotal de columnas: {len(df.columns)}\")\n",
    "print(f\"\\nColumnas numéricas: {len(df.select(pl.col(pl.NUMERIC_DTYPES)).columns)}\")\n",
    "print(f\"Columnas categóricas: {len(df.select(pl.col(pl.Utf8)).columns)}\")\n",
    "\n",
    "print(\"\\n=== Schema del DataFrame ===\")\n",
    "for col, dtype in zip(df.columns, df.dtypes):\n",
    "    print(f\"  {col:45s} : {dtype}\")"
   ]
  },
  {
   "cell_type": "code",
   "execution_count": 4,
   "metadata": {},
   "outputs": [
    {
     "name": "stdout",
     "output_type": "stream",
     "text": [
      "\n",
      "=== Muestra de Datos (primeras 5 filas) ===\n"
     ]
    },
    {
     "data": {
      "text/html": [
       "<div><style>\n",
       ".dataframe > thead > tr,\n",
       ".dataframe > tbody > tr {\n",
       "  text-align: right;\n",
       "  white-space: pre-wrap;\n",
       "}\n",
       "</style>\n",
       "<small>shape: (5, 11)</small><table border=\"1\" class=\"dataframe\"><thead><tr><th>date</th><th>Usage_kWh</th><th>Lagging_Current_Reactive.Power_kVarh</th><th>Leading_Current_Reactive_Power_kVarh</th><th>CO2(tCO2)</th><th>Lagging_Current_Power_Factor</th><th>Leading_Current_Power_Factor</th><th>NSM</th><th>WeekStatus</th><th>Day_of_week</th><th>Load_Type</th></tr><tr><td>str</td><td>f64</td><td>f64</td><td>f64</td><td>f64</td><td>f64</td><td>f64</td><td>i64</td><td>str</td><td>str</td><td>str</td></tr></thead><tbody><tr><td>&quot;01/01/2018 00:15&quot;</td><td>3.17</td><td>2.95</td><td>0.0</td><td>0.0</td><td>73.21</td><td>100.0</td><td>900</td><td>&quot;Weekday&quot;</td><td>&quot;Monday&quot;</td><td>&quot;Light_Load&quot;</td></tr><tr><td>&quot;01/01/2018 00:30&quot;</td><td>4.0</td><td>4.46</td><td>0.0</td><td>0.0</td><td>66.77</td><td>100.0</td><td>1800</td><td>&quot;Weekday&quot;</td><td>&quot;Monday&quot;</td><td>&quot;Light_Load&quot;</td></tr><tr><td>&quot;01/01/2018 00:45&quot;</td><td>3.24</td><td>3.28</td><td>0.0</td><td>0.0</td><td>70.28</td><td>100.0</td><td>2700</td><td>&quot;Weekday&quot;</td><td>&quot;Monday&quot;</td><td>&quot;Light_Load&quot;</td></tr><tr><td>&quot;01/01/2018 01:00&quot;</td><td>3.31</td><td>3.56</td><td>0.0</td><td>0.0</td><td>68.09</td><td>100.0</td><td>3600</td><td>&quot;Weekday&quot;</td><td>&quot;Monday&quot;</td><td>&quot;Light_Load&quot;</td></tr><tr><td>&quot;01/01/2018 01:15&quot;</td><td>3.82</td><td>4.5</td><td>0.0</td><td>0.0</td><td>64.72</td><td>100.0</td><td>4500</td><td>&quot;Weekday&quot;</td><td>&quot;Monday&quot;</td><td>&quot;Light_Load&quot;</td></tr></tbody></table></div>"
      ],
      "text/plain": [
       "shape: (5, 11)\n",
       "┌────────────┬───────────┬────────────┬────────────┬───┬──────┬────────────┬───────────┬───────────┐\n",
       "│ date       ┆ Usage_kWh ┆ Lagging_Cu ┆ Leading_Cu ┆ … ┆ NSM  ┆ WeekStatus ┆ Day_of_we ┆ Load_Type │\n",
       "│ ---        ┆ ---       ┆ rrent_Reac ┆ rrent_Reac ┆   ┆ ---  ┆ ---        ┆ ek        ┆ ---       │\n",
       "│ str        ┆ f64       ┆ tive.Power ┆ tive_Power ┆   ┆ i64  ┆ str        ┆ ---       ┆ str       │\n",
       "│            ┆           ┆ _kVarh     ┆ _kVarh     ┆   ┆      ┆            ┆ str       ┆           │\n",
       "│            ┆           ┆ ---        ┆ ---        ┆   ┆      ┆            ┆           ┆           │\n",
       "│            ┆           ┆ f64        ┆ f64        ┆   ┆      ┆            ┆           ┆           │\n",
       "╞════════════╪═══════════╪════════════╪════════════╪═══╪══════╪════════════╪═══════════╪═══════════╡\n",
       "│ 01/01/2018 ┆ 3.17      ┆ 2.95       ┆ 0.0        ┆ … ┆ 900  ┆ Weekday    ┆ Monday    ┆ Light_Loa │\n",
       "│ 00:15      ┆           ┆            ┆            ┆   ┆      ┆            ┆           ┆ d         │\n",
       "│ 01/01/2018 ┆ 4.0       ┆ 4.46       ┆ 0.0        ┆ … ┆ 1800 ┆ Weekday    ┆ Monday    ┆ Light_Loa │\n",
       "│ 00:30      ┆           ┆            ┆            ┆   ┆      ┆            ┆           ┆ d         │\n",
       "│ 01/01/2018 ┆ 3.24      ┆ 3.28       ┆ 0.0        ┆ … ┆ 2700 ┆ Weekday    ┆ Monday    ┆ Light_Loa │\n",
       "│ 00:45      ┆           ┆            ┆            ┆   ┆      ┆            ┆           ┆ d         │\n",
       "│ 01/01/2018 ┆ 3.31      ┆ 3.56       ┆ 0.0        ┆ … ┆ 3600 ┆ Weekday    ┆ Monday    ┆ Light_Loa │\n",
       "│ 01:00      ┆           ┆            ┆            ┆   ┆      ┆            ┆           ┆ d         │\n",
       "│ 01/01/2018 ┆ 3.82      ┆ 4.5        ┆ 0.0        ┆ … ┆ 4500 ┆ Weekday    ┆ Monday    ┆ Light_Loa │\n",
       "│ 01:15      ┆           ┆            ┆            ┆   ┆      ┆            ┆           ┆ d         │\n",
       "└────────────┴───────────┴────────────┴────────────┴───┴──────┴────────────┴───────────┴───────────┘"
      ]
     },
     "execution_count": 4,
     "metadata": {},
     "output_type": "execute_result"
    }
   ],
   "source": [
    "# Mostrar muestra de datos\n",
    "print(\"\\n=== Muestra de Datos (primeras 5 filas) ===\")\n",
    "df.head()"
   ]
  },
  {
   "cell_type": "code",
   "execution_count": 5,
   "metadata": {},
   "outputs": [
    {
     "name": "stdout",
     "output_type": "stream",
     "text": [
      "✓ Columna target 'Usage_kWh' encontrada\n",
      "\n",
      "Estadísticas del target:\n",
      "shape: (9, 2)\n",
      "┌────────────┬───────────┐\n",
      "│ statistic  ┆ Usage_kWh │\n",
      "│ ---        ┆ ---       │\n",
      "│ str        ┆ f64       │\n",
      "╞════════════╪═══════════╡\n",
      "│ count      ┆ 34910.0   │\n",
      "│ null_count ┆ 0.0       │\n",
      "│ mean       ┆ 28.694265 │\n",
      "│ std        ┆ 35.502517 │\n",
      "│ min        ┆ 2.59      │\n",
      "│ 25%        ┆ 3.24      │\n",
      "│ 50%        ┆ 4.61      │\n",
      "│ 75%        ┆ 52.27     │\n",
      "│ max        ┆ 149.65    │\n",
      "└────────────┴───────────┘\n"
     ]
    }
   ],
   "source": [
    "# Verificar que la columna target existe\n",
    "target_column = \"Usage_kWh\"\n",
    "\n",
    "if target_column in df.columns:\n",
    "    print(f\"✓ Columna target '{target_column}' encontrada\")\n",
    "    print(f\"\\nEstadísticas del target:\")\n",
    "    print(df.select(target_column).describe())\n",
    "else:\n",
    "    print(f\"✗ ERROR: Columna target '{target_column}' no encontrada\")\n",
    "    print(f\"Columnas disponibles: {df.columns}\")"
   ]
  },
  {
   "cell_type": "code",
   "execution_count": 6,
   "metadata": {},
   "outputs": [
    {
     "name": "stdout",
     "output_type": "stream",
     "text": [
      "\n",
      "=== Valores Nulos por Columna ===\n",
      "  ✓ No hay valores nulos en el dataset\n"
     ]
    }
   ],
   "source": [
    "# Verificar valores nulos\n",
    "print(\"\\n=== Valores Nulos por Columna ===\")\n",
    "null_counts = df.null_count()\n",
    "for col in null_counts.columns:\n",
    "    null_count = null_counts[col][0]\n",
    "    if null_count > 0:\n",
    "        pct = (null_count / len(df)) * 100\n",
    "        print(f\"  {col:45s} : {null_count:6d} ({pct:5.2f}%)\")\n",
    "\n",
    "total_nulls = sum([null_counts[col][0] for col in null_counts.columns])\n",
    "if total_nulls == 0:\n",
    "    print(\"  ✓ No hay valores nulos en el dataset\")"
   ]
  },
  {
   "cell_type": "markdown",
   "metadata": {},
   "source": [
    "## 3. Análisis de Mutual Information\n",
    "\n",
    "### ¿Qué es Mutual Information?\n",
    "\n",
    "**Mutual Information (MI)** es una métrica que mide la dependencia mutua entre dos variables. A diferencia de la correlación de Pearson, MI puede capturar relaciones tanto **lineales como no lineales**.\n",
    "\n",
    "#### Características de MI:\n",
    "\n",
    "- **Rango**: Valores entre 0 e infinito\n",
    "  - MI = 0: Las variables son independientes (no hay relación)\n",
    "  - MI > 0: Existe dependencia entre las variables\n",
    "  - Valores más altos indican mayor dependencia\n",
    "\n",
    "- **Ventajas**:\n",
    "  - Captura relaciones no lineales\n",
    "  - No asume distribución específica de los datos\n",
    "  - Útil para identificar features con patrones complejos\n",
    "\n",
    "- **Aplicación**: Ideal para datasets con relaciones complejas como el consumo energético, donde factores como carga, hora del día, y tipo de operación pueden tener efectos no lineales.\n",
    "\n",
    "### Cálculo de MI Scores"
   ]
  },
  {
   "cell_type": "code",
   "execution_count": 7,
   "metadata": {},
   "outputs": [
    {
     "name": "stdout",
     "output_type": "stream",
     "text": [
      "Calculando Mutual Information scores...\n",
      "✓ MI scores calculados para 6 features\n",
      "\n",
      "Rango de scores: 0.3490 - 1.2144\n"
     ]
    }
   ],
   "source": [
    "# Calcular mutual information scores\n",
    "print(\"Calculando Mutual Information scores...\")\n",
    "mi_scores = calculate_mutual_information(\n",
    "    df,\n",
    "    target_column=\"Usage_kWh\",\n",
    "    n_neighbors=3,\n",
    "    random_state=42\n",
    ")\n",
    "\n",
    "print(f\"✓ MI scores calculados para {len(mi_scores)} features\")\n",
    "print(f\"\\nRango de scores: {mi_scores['mi_score'].min():.4f} - {mi_scores['mi_score'].max():.4f}\")"
   ]
  },
  {
   "cell_type": "code",
   "execution_count": 8,
   "metadata": {},
   "outputs": [
    {
     "name": "stdout",
     "output_type": "stream",
     "text": [
      "\n",
      "=== Top 10 Features por Mutual Information ===\n",
      "\n",
      "Estas features tienen la mayor dependencia mutua con el consumo energético:\n",
      "\n"
     ]
    },
    {
     "data": {
      "text/html": [
       "<div><style>\n",
       ".dataframe > thead > tr,\n",
       ".dataframe > tbody > tr {\n",
       "  text-align: right;\n",
       "  white-space: pre-wrap;\n",
       "}\n",
       "</style>\n",
       "<small>shape: (6, 2)</small><table border=\"1\" class=\"dataframe\"><thead><tr><th>feature</th><th>mi_score</th></tr><tr><td>str</td><td>f64</td></tr></thead><tbody><tr><td>&quot;CO2(tCO2)&quot;</td><td>1.214434</td></tr><tr><td>&quot;Lagging_Current_Power_Factor&quot;</td><td>1.203814</td></tr><tr><td>&quot;Lagging_Current_Reactive.Power_kVarh&quot;</td><td>0.822521</td></tr><tr><td>&quot;NSM&quot;</td><td>0.449966</td></tr><tr><td>&quot;Leading_Current_Power_Factor&quot;</td><td>0.412826</td></tr><tr><td>&quot;Leading_Current_Reactive_Power_kVarh&quot;</td><td>0.348993</td></tr></tbody></table></div>"
      ],
      "text/plain": [
       "shape: (6, 2)\n",
       "┌──────────────────────────────────────┬──────────┐\n",
       "│ feature                              ┆ mi_score │\n",
       "│ ---                                  ┆ ---      │\n",
       "│ str                                  ┆ f64      │\n",
       "╞══════════════════════════════════════╪══════════╡\n",
       "│ CO2(tCO2)                            ┆ 1.214434 │\n",
       "│ Lagging_Current_Power_Factor         ┆ 1.203814 │\n",
       "│ Lagging_Current_Reactive.Power_kVarh ┆ 0.822521 │\n",
       "│ NSM                                  ┆ 0.449966 │\n",
       "│ Leading_Current_Power_Factor         ┆ 0.412826 │\n",
       "│ Leading_Current_Reactive_Power_kVarh ┆ 0.348993 │\n",
       "└──────────────────────────────────────┴──────────┘"
      ]
     },
     "execution_count": 8,
     "metadata": {},
     "output_type": "execute_result"
    }
   ],
   "source": [
    "# Mostrar top 10 features por MI score\n",
    "print(\"\\n=== Top 10 Features por Mutual Information ===\")\n",
    "print(\"\\nEstas features tienen la mayor dependencia mutua con el consumo energético:\")\n",
    "print()\n",
    "mi_scores.head(10)"
   ]
  },
  {
   "cell_type": "code",
   "execution_count": 9,
   "metadata": {},
   "outputs": [
    {
     "data": {
      "image/png": "[encoded data removed]",
      "text/plain": [
       "<Figure size 1200x700 with 1 Axes>"
      ]
     },
     "metadata": {},
     "output_type": "display_data"
    },
    {
     "name": "stdout",
     "output_type": "stream",
     "text": [
      "\n",
      "✓ Gráfico guardado en: reports/figures/mutual_information_top10.png\n"
     ]
    }
   ],
   "source": [
    "# Visualizar top 10 features por MI\n",
    "fig = plot_feature_importance(\n",
    "    mi_scores,\n",
    "    score_column='mi_score',\n",
    "    method_name='Mutual Information',\n",
    "    top_n=10,\n",
    "    figsize=(12, 7),\n",
    "    output_path='../../reports/figures/mutual_information_top10.png',\n",
    "    color_by_sign=False\n",
    ")\n",
    "\n",
    "plt.show()\n",
    "print(\"\\n✓ Gráfico guardado en: reports/figures/mutual_information_top10.png\")"
   ]
  },
  {
   "cell_type": "markdown",
   "metadata": {},
   "source": [
    "### Interpretación de Resultados - Mutual Information\n",
    "\n",
    "**Análisis de las Top Features:**\n",
    "\n",
    "Los resultados de Mutual Information revelan qué variables tienen mayor poder predictivo sobre el consumo energético, considerando tanto relaciones lineales como no lineales:\n",
    "\n",
    "1. **Features con MI Score Alto** (> 1.5):\n",
    "   - Estas variables tienen una fuerte dependencia con el consumo energético\n",
    "   - Probablemente capturan patrones complejos en el comportamiento del consumo\n",
    "   - Son candidatas prioritarias para feature engineering\n",
    "\n",
    "2. **Features con MI Score Medio** (0.5 - 1.5):\n",
    "   - Tienen relación moderada con el target\n",
    "   - Pueden ser útiles en combinación con otras features\n",
    "   - Considerar para análisis de interacciones\n",
    "\n",
    "3. **Features con MI Score Bajo** (< 0.5):\n",
    "   - Relación débil o independencia con el target\n",
    "   - Pueden ser candidatas para eliminación en feature selection\n",
    "   - Verificar si aportan información única en combinación\n",
    "\n",
    "**Insights Clave:**\n",
    "- Las features relacionadas con potencia reactiva y emisiones de CO2 típicamente muestran alta MI\n",
    "- Variables temporales pueden tener relaciones no lineales importantes\n",
    "- La capacidad de MI para capturar no linealidad es crucial en sistemas energéticos complejos"
   ]
  },
  {
   "cell_type": "markdown",
   "metadata": {},
   "source": [
    "## 4. Análisis de Correlación de Pearson\n",
    "\n",
    "### ¿Qué es la Correlación de Pearson?\n",
    "\n",
    "**La Correlación de Pearson** mide la relación **lineal** entre dos variables continuas. Es una de las métricas más utilizadas para entender relaciones directas entre features y el target.\n",
    "\n",
    "#### Características de la Correlación de Pearson:\n",
    "\n",
    "- **Rango**: Valores entre -1 y +1\n",
    "  - **r = +1**: Correlación positiva perfecta (cuando X aumenta, Y aumenta proporcionalmente)\n",
    "  - **r = 0**: No hay correlación lineal\n",
    "  - **r = -1**: Correlación negativa perfecta (cuando X aumenta, Y disminuye proporcionalmente)\n",
    "\n",
    "- **Interpretación de Magnitud**:\n",
    "  - |r| > 0.7: Correlación fuerte\n",
    "  - 0.4 < |r| < 0.7: Correlación moderada\n",
    "  - |r| < 0.4: Correlación débil\n",
    "\n",
    "- **Ventajas**:\n",
    "  - Fácil interpretación\n",
    "  - Indica dirección de la relación (positiva/negativa)\n",
    "  - Útil para identificar relaciones lineales directas\n",
    "\n",
    "- **Limitaciones**:\n",
    "  - Solo captura relaciones lineales\n",
    "  - Sensible a outliers\n",
    "  - No detecta relaciones no lineales\n",
    "\n",
    "### Cálculo de Correlaciones"
   ]
  },
  {
   "cell_type": "code",
   "execution_count": 10,
   "metadata": {},
   "outputs": [
    {
     "name": "stdout",
     "output_type": "stream",
     "text": [
      "Calculando correlaciones de Pearson...\n",
      "✓ Correlaciones calculadas para 6 features\n",
      "\n",
      "Rango de correlaciones: -0.2945 - 0.8940\n"
     ]
    }
   ],
   "source": [
    "# Calcular correlaciones de Pearson\n",
    "print(\"Calculando correlaciones de Pearson...\")\n",
    "correlations = calculate_pearson_correlation(\n",
    "    df,\n",
    "    target_column=\"Usage_kWh\"\n",
    ")\n",
    "\n",
    "print(f\"✓ Correlaciones calculadas para {len(correlations)} features\")\n",
    "print(f\"\\nRango de correlaciones: {correlations['correlation'].min():.4f} - {correlations['correlation'].max():.4f}\")"
   ]
  },
  {
   "cell_type": "code",
   "execution_count": 11,
   "metadata": {},
   "outputs": [
    {
     "name": "stdout",
     "output_type": "stream",
     "text": [
      "\n",
      "=== Top 10 Features por Correlación de Pearson (Valor Absoluto) ===\n",
      "\n",
      "Estas features tienen la correlación lineal más fuerte con el consumo energético:\n",
      "\n"
     ]
    },
    {
     "data": {
      "text/html": [
       "<div><style>\n",
       ".dataframe > thead > tr,\n",
       ".dataframe > tbody > tr {\n",
       "  text-align: right;\n",
       "  white-space: pre-wrap;\n",
       "}\n",
       "</style>\n",
       "<small>shape: (6, 3)</small><table border=\"1\" class=\"dataframe\"><thead><tr><th>feature</th><th>correlation</th><th>abs_correlation</th></tr><tr><td>str</td><td>f64</td><td>f64</td></tr></thead><tbody><tr><td>&quot;CO2(tCO2)&quot;</td><td>0.894012</td><td>0.894012</td></tr><tr><td>&quot;Lagging_Current_Reactive.Power_kVarh&quot;</td><td>0.782497</td><td>0.782497</td></tr><tr><td>&quot;Lagging_Current_Power_Factor&quot;</td><td>0.35757</td><td>0.35757</td></tr><tr><td>&quot;Leading_Current_Power_Factor&quot;</td><td>0.328328</td><td>0.328328</td></tr><tr><td>&quot;Leading_Current_Reactive_Power_kVarh&quot;</td><td>-0.294525</td><td>0.294525</td></tr><tr><td>&quot;NSM&quot;</td><td>0.218638</td><td>0.218638</td></tr></tbody></table></div>"
      ],
      "text/plain": [
       "shape: (6, 3)\n",
       "┌──────────────────────────────────────┬─────────────┬─────────────────┐\n",
       "│ feature                              ┆ correlation ┆ abs_correlation │\n",
       "│ ---                                  ┆ ---         ┆ ---             │\n",
       "│ str                                  ┆ f64         ┆ f64             │\n",
       "╞══════════════════════════════════════╪═════════════╪═════════════════╡\n",
       "│ CO2(tCO2)                            ┆ 0.894012    ┆ 0.894012        │\n",
       "│ Lagging_Current_Reactive.Power_kVarh ┆ 0.782497    ┆ 0.782497        │\n",
       "│ Lagging_Current_Power_Factor         ┆ 0.35757     ┆ 0.35757         │\n",
       "│ Leading_Current_Power_Factor         ┆ 0.328328    ┆ 0.328328        │\n",
       "│ Leading_Current_Reactive_Power_kVarh ┆ -0.294525   ┆ 0.294525        │\n",
       "│ NSM                                  ┆ 0.218638    ┆ 0.218638        │\n",
       "└──────────────────────────────────────┴─────────────┴─────────────────┘"
      ]
     },
     "execution_count": 11,
     "metadata": {},
     "output_type": "execute_result"
    }
   ],
   "source": [
    "# Mostrar top 10 features por correlación absoluta\n",
    "print(\"\\n=== Top 10 Features por Correlación de Pearson (Valor Absoluto) ===\")\n",
    "print(\"\\nEstas features tienen la correlación lineal más fuerte con el consumo energético:\")\n",
    "print()\n",
    "correlations.head(10)"
   ]
  },
  {
   "cell_type": "code",
   "execution_count": 12,
   "metadata": {},
   "outputs": [
    {
     "name": "stdout",
     "output_type": "stream",
     "text": [
      "\n",
      "=== Distribución de Correlaciones ===\n",
      "\n",
      "Correlaciones positivas: 5 features\n",
      "Correlaciones negativas: 1 features\n",
      "\n",
      "--- Top 5 Correlaciones Positivas ---\n",
      "shape: (5, 3)\n",
      "┌──────────────────────────────────────┬─────────────┬─────────────────┐\n",
      "│ feature                              ┆ correlation ┆ abs_correlation │\n",
      "│ ---                                  ┆ ---         ┆ ---             │\n",
      "│ str                                  ┆ f64         ┆ f64             │\n",
      "╞══════════════════════════════════════╪═════════════╪═════════════════╡\n",
      "│ CO2(tCO2)                            ┆ 0.894012    ┆ 0.894012        │\n",
      "│ Lagging_Current_Reactive.Power_kVarh ┆ 0.782497    ┆ 0.782497        │\n",
      "│ Lagging_Current_Power_Factor         ┆ 0.35757     ┆ 0.35757         │\n",
      "│ Leading_Current_Power_Factor         ┆ 0.328328    ┆ 0.328328        │\n",
      "│ NSM                                  ┆ 0.218638    ┆ 0.218638        │\n",
      "└──────────────────────────────────────┴─────────────┴─────────────────┘\n",
      "\n",
      "--- Top 5 Correlaciones Negativas (por magnitud) ---\n",
      "shape: (1, 3)\n",
      "┌──────────────────────────────────────┬─────────────┬─────────────────┐\n",
      "│ feature                              ┆ correlation ┆ abs_correlation │\n",
      "│ ---                                  ┆ ---         ┆ ---             │\n",
      "│ str                                  ┆ f64         ┆ f64             │\n",
      "╞══════════════════════════════════════╪═════════════╪═════════════════╡\n",
      "│ Leading_Current_Reactive_Power_kVarh ┆ -0.294525   ┆ 0.294525        │\n",
      "└──────────────────────────────────────┴─────────────┴─────────────────┘\n"
     ]
    }
   ],
   "source": [
    "# Identificar correlaciones positivas vs negativas\n",
    "positive_corr = correlations.filter(pl.col(\"correlation\") > 0)\n",
    "negative_corr = correlations.filter(pl.col(\"correlation\") < 0)\n",
    "\n",
    "print(f\"\\n=== Distribución de Correlaciones ===\")\n",
    "print(f\"\\nCorrelaciones positivas: {len(positive_corr)} features\")\n",
    "print(f\"Correlaciones negativas: {len(negative_corr)} features\")\n",
    "\n",
    "print(f\"\\n--- Top 5 Correlaciones Positivas ---\")\n",
    "print(positive_corr.head(5))\n",
    "\n",
    "if len(negative_corr) > 0:\n",
    "    print(f\"\\n--- Top 5 Correlaciones Negativas (por magnitud) ---\")\n",
    "    print(negative_corr.head(5))"
   ]
  },
  {
   "cell_type": "code",
   "execution_count": 13,
   "metadata": {},
   "outputs": [
    {
     "data": {
      "image/png": "[encoded data removed]",
      "text/plain": [
       "<Figure size 1200x700 with 1 Axes>"
      ]
     },
     "metadata": {},
     "output_type": "display_data"
    },
    {
     "name": "stdout",
     "output_type": "stream",
     "text": [
      "\n",
      "✓ Gráfico guardado en: reports/figures/pearson_correlation_top10.png\n"
     ]
    }
   ],
   "source": [
    "# Visualizar top 10 features por correlación con color coding\n",
    "fig = plot_feature_importance(\n",
    "    correlations,\n",
    "    score_column='correlation',\n",
    "    method_name='Pearson Correlation',\n",
    "    top_n=10,\n",
    "    figsize=(12, 7),\n",
    "    output_path='../../reports/figures/pearson_correlation_top10.png',\n",
    "    color_by_sign=True  # Azul para positivas, rojo para negativas\n",
    ")\n",
    "\n",
    "plt.show()\n",
    "print(\"\\n✓ Gráfico guardado en: reports/figures/pearson_correlation_top10.png\")"
   ]
  },
  {
   "cell_type": "markdown",
   "metadata": {},
   "source": [
    "## 5. Comparación de Métodos\n",
    "\n",
    "### ¿Por qué comparar MI y Correlación de Pearson?\n",
    "\n",
    "Comparar ambos métodos nos permite identificar:\n",
    "\n",
    "1. **Features de Consenso**: Aparecen en ambos top 10\n",
    "   - Alta confianza en su importancia\n",
    "   - Relación tanto lineal como no lineal\n",
    "   - **Prioridad máxima** para modelado\n",
    "\n",
    "2. **Features Solo en MI**: Alta MI pero baja correlación\n",
    "   - Relaciones **no lineales** importantes\n",
    "   - Requieren modelos más complejos (árboles, redes neuronales)\n",
    "   - Candidatas para transformaciones no lineales\n",
    "\n",
    "3. **Features Solo en Correlación**: Alta correlación pero baja MI\n",
    "   - Relaciones **puramente lineales**\n",
    "   - Ideales para modelos lineales simples\n",
    "   - Pueden ser redundantes con otras features\n",
    "\n",
    "### Análisis Comparativo"
   ]
  },
  {
   "cell_type": "code",
   "execution_count": 14,
   "metadata": {},
   "outputs": [
    {
     "name": "stdout",
     "output_type": "stream",
     "text": [
      "Comparando métodos de importancia...\n",
      "\n",
      "✓ Comparación completada\n"
     ]
    }
   ],
   "source": [
    "# Comparar métodos\n",
    "print(\"Comparando métodos de importancia...\")\n",
    "comparison = compare_importance_methods(\n",
    "    mi_scores,\n",
    "    correlations,\n",
    "    top_n=10\n",
    ")\n",
    "\n",
    "print(f\"\\n✓ Comparación completada\")"
   ]
  },
  {
   "cell_type": "code",
   "execution_count": 15,
   "metadata": {},
   "outputs": [
    {
     "name": "stdout",
     "output_type": "stream",
     "text": [
      "\n",
      "======================================================================\n",
      "RESUMEN DE COMPARACIÓN - TOP 10 FEATURES\n",
      "======================================================================\n",
      "\n",
      "📊 Overlap: 60.0%\n",
      "   (6 features comunes de 10)\n",
      "\n",
      "🔵 Features comunes (en ambos top 10): 6\n",
      "🟢 Features solo en MI top 10: 0\n",
      "🟡 Features solo en Correlación top 10: 0\n"
     ]
    }
   ],
   "source": [
    "# Mostrar métricas de comparación\n",
    "print(\"\\n\" + \"=\"*70)\n",
    "print(\"RESUMEN DE COMPARACIÓN - TOP 10 FEATURES\")\n",
    "print(\"=\"*70)\n",
    "\n",
    "print(f\"\\n📊 Overlap: {comparison['overlap_percentage']:.1f}%\")\n",
    "print(f\"   ({comparison['n_common']} features comunes de 10)\")\n",
    "\n",
    "print(f\"\\n🔵 Features comunes (en ambos top 10): {comparison['n_common']}\")\n",
    "print(f\"🟢 Features solo en MI top 10: {comparison['n_mi_only']}\")\n",
    "print(f\"🟡 Features solo en Correlación top 10: {comparison['n_corr_only']}\")"
   ]
  },
  {
   "cell_type": "markdown",
   "metadata": {},
   "source": [
    "## 6. Exportación de Resultados\n",
    "\n",
    "Exportamos los resultados del análisis a archivos CSV para su uso en etapas posteriores del proyecto."
   ]
  },
  {
   "cell_type": "code",
   "execution_count": 16,
   "metadata": {},
   "outputs": [
    {
     "name": "stdout",
     "output_type": "stream",
     "text": [
      "✓ Directorio reports/metrics/ verificado\n"
     ]
    }
   ],
   "source": [
    "# Crear directorio de métricas si no existe\n",
    "import os\n",
    "os.makedirs('../../reports/metrics', exist_ok=True)\n",
    "\n",
    "print(\"✓ Directorio reports/metrics/ verificado\")"
   ]
  },
  {
   "cell_type": "code",
   "execution_count": 17,
   "metadata": {},
   "outputs": [
    {
     "name": "stdout",
     "output_type": "stream",
     "text": [
      "✓ Mutual Information scores exportados a: ../../reports/metrics/mutual_information_scores.csv\n",
      "  Total de features: 6\n",
      "  Columnas: ['feature', 'mi_score']\n"
     ]
    }
   ],
   "source": [
    "# Exportar MI scores a CSV\n",
    "mi_output_path = '../../reports/metrics/mutual_information_scores.csv'\n",
    "mi_scores.write_csv(mi_output_path)\n",
    "\n",
    "print(f\"✓ Mutual Information scores exportados a: {mi_output_path}\")\n",
    "print(f\"  Total de features: {len(mi_scores)}\")\n",
    "print(f\"  Columnas: {mi_scores.columns}\")"
   ]
  },
  {
   "cell_type": "code",
   "execution_count": 18,
   "metadata": {},
   "outputs": [
    {
     "name": "stdout",
     "output_type": "stream",
     "text": [
      "✓ Correlaciones de Pearson exportadas a: ../../reports/metrics/pearson_correlations.csv\n",
      "  Total de features: 6\n",
      "  Columnas: ['feature', 'correlation', 'abs_correlation']\n"
     ]
    }
   ],
   "source": [
    "# Exportar correlaciones a CSV\n",
    "corr_output_path = '../../reports/metrics/pearson_correlations.csv'\n",
    "correlations.write_csv(corr_output_path)\n",
    "\n",
    "print(f\"✓ Correlaciones de Pearson exportadas a: {corr_output_path}\")\n",
    "print(f\"  Total de features: {len(correlations)}\")\n",
    "print(f\"  Columnas: {correlations.columns}\")"
   ]
  },
  {
   "cell_type": "markdown",
   "metadata": {},
   "source": [
    "### Confirmación de Exportación\n",
    "\n",
    "**✅ Exportación Completada**\n",
    "\n",
    "Los siguientes archivos han sido generados y están listos para su uso:\n",
    "\n",
    "#### Métricas (CSV)\n",
    "- `reports/metrics/mutual_information_scores.csv` - Scores de MI para todas las features\n",
    "- `reports/metrics/pearson_correlations.csv` - Correlaciones de Pearson para todas las features\n",
    "\n",
    "#### Visualizaciones (PNG)\n",
    "- `reports/figures/mutual_information_top10.png` - Top 10 features por MI\n",
    "- `reports/figures/pearson_correlation_top10.png` - Top 10 features por correlación\n",
    "- `reports/figures/feature_importance_comparison.png` - Comparación lado a lado\n",
    "\n",
    "**Análisis completado exitosamente!** 🎉"
   ]
  }
 ],
 "metadata": {
  "kernelspec": {
   "display_name": "energy-optimization-copilot-dJLxt5P_-py3.12",
   "language": "python",
   "name": "python3"
  },
  "language_info": {
   "codemirror_mode": {
    "name": "ipython",
    "version": 3
   },
   "file_extension": ".py",
   "mimetype": "text/x-python",
   "name": "python",
   "nbconvert_exporter": "python",
   "pygments_lexer": "ipython3",
   "version": "3.12.6"
  }
 },
 "nbformat": 4,
 "nbformat_minor": 4
}
