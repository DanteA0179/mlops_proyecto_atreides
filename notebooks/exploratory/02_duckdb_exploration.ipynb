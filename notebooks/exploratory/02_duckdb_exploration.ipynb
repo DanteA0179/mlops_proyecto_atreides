{
 "cells": [
  {
   "cell_type": "markdown",
   "metadata": {},
   "source": [
    "# Exploración de Datos con DuckDB\n",
    "\n",
    "Este notebook demuestra cómo usar DuckDB para exploración interactiva de datos mediante SQL.\n",
    "\n",
    "**Ventajas de DuckDB:**\n",
    "- 10-100x más rápido que Pandas para queries analíticos\n",
    "- Interfaz SQL familiar para exploración de datos\n",
    "- Lee Parquet directamente sin cargar en memoria\n",
    "- Base de datos portable en un solo archivo\n",
    "\n",
    "**Autor:** Data Engineering Team  \n",
    "**Fecha:** 2025-10-16"
   ]
  },
  {
   "cell_type": "code",
   "execution_count": 1,
   "metadata": {},
   "outputs": [],
   "source": [
    "# Imports\n",
    "import sys\n",
    "sys.path.append('../..')\n",
    "\n",
    "# Usar funciones reutilizables de utils\n",
    "from src.utils.duckdb_utils import (\n",
    "    setup_database,  # Nueva función para notebooks\n",
    "    quick_query,\n",
    "    get_stats_by_column,\n",
    "    get_temporal_stats,\n",
    "    get_top_n,\n",
    "    get_correlation,\n",
    "    get_weekend_vs_weekday_stats,\n",
    "    DuckDBConnection\n",
    ")\n",
    "from src.data.load_to_duckdb import get_table_info\n",
    "import polars as pl\n",
    "import plotly.express as px"
   ]
  },
  {
   "cell_type": "markdown",
   "metadata": {},
   "source": [
    "## 1. Configuración de la Base de Datos"
   ]
  },
  {
   "cell_type": "code",
   "execution_count": 2,
   "metadata": {},
   "outputs": [
    {
     "name": "stderr",
     "output_type": "stream",
     "text": [
      "INFO:src.data.load_to_duckdb:✅ Connected to DuckDB: ../../data/steel.duckdb\n",
      "INFO:src.utils.duckdb_utils:✅ Tabla 'steel_cleaned' ya existe en la base de datos\n"
     ]
    }
   ],
   "source": [
    "# Configurar base de datos (conecta y carga datos automáticamente si es necesario)\n",
    "conn = setup_database(\n",
    "    db_path=\"../../data/steel.duckdb\",\n",
    "    parquet_path=\"../../data/processed/steel_cleaned.parquet\"\n",
    ")\n",
    "\n",
    "# Esta función:\n",
    "# 1. Conecta a la base de datos\n",
    "# 2. Verifica si los datos ya están cargados\n",
    "# 3. Si no están, los carga automáticamente\n",
    "# 4. Si ya están, solo informa y continúa"
   ]
  },
  {
   "cell_type": "markdown",
   "metadata": {},
   "source": [
    "## 2. Información de la Tabla"
   ]
  },
  {
   "cell_type": "code",
   "execution_count": 3,
   "metadata": {},
   "outputs": [
    {
     "name": "stdout",
     "output_type": "stream",
     "text": [
      "Tabla: steel_cleaned\n",
      "Filas: 34,933\n",
      "Columnas: 11\n",
      "\n",
      "Esquema:\n",
      "  date: VARCHAR\n",
      "  Usage_kWh: DOUBLE\n",
      "  Lagging_Current_Reactive.Power_kVarh: DOUBLE\n",
      "  Leading_Current_Reactive_Power_kVarh: DOUBLE\n",
      "  CO2(tCO2): DOUBLE\n",
      "  Lagging_Current_Power_Factor: DOUBLE\n",
      "  Leading_Current_Power_Factor: DOUBLE\n",
      "  NSM: BIGINT\n",
      "  WeekStatus: VARCHAR\n",
      "  Day_of_week: VARCHAR\n",
      "  Load_Type: VARCHAR\n"
     ]
    }
   ],
   "source": [
    "# Obtener información de la tabla\n",
    "info = get_table_info(conn, \"steel_cleaned\")\n",
    "\n",
    "print(f\"Tabla: {info['table_name']}\")\n",
    "print(f\"Filas: {info['row_count']:,}\")\n",
    "print(f\"Columnas: {info['column_count']}\")\n",
    "print(f\"\\nEsquema:\")\n",
    "for col_name, col_type in info['schema']:\n",
    "    print(f\"  {col_name}: {col_type}\")"
   ]
  },
  {
   "cell_type": "markdown",
   "metadata": {},
   "source": [
    "## 3. Queries Básicos\n",
    "\n",
    "Usando funciones reutilizables de `src/utils/duckdb_utils.py` para queries comunes."
   ]
  },
  {
   "cell_type": "code",
   "execution_count": 4,
   "metadata": {},
   "outputs": [
    {
     "name": "stderr",
     "output_type": "stream",
     "text": [
      "INFO:src.data.load_to_duckdb:✅ Connected to DuckDB: ../../data/steel.duckdb\n",
      "INFO:src.data.load_to_duckdb:✅ Query executed: 10 rows returned\n"
     ]
    },
    {
     "data": {
      "text/html": [
       "<div><style>\n",
       ".dataframe > thead > tr,\n",
       ".dataframe > tbody > tr {\n",
       "  text-align: right;\n",
       "  white-space: pre-wrap;\n",
       "}\n",
       "</style>\n",
       "<small>shape: (10, 11)</small><table border=\"1\" class=\"dataframe\"><thead><tr><th>date</th><th>Usage_kWh</th><th>Lagging_Current_Reactive.Power_kVarh</th><th>Leading_Current_Reactive_Power_kVarh</th><th>CO2(tCO2)</th><th>Lagging_Current_Power_Factor</th><th>Leading_Current_Power_Factor</th><th>NSM</th><th>WeekStatus</th><th>Day_of_week</th><th>Load_Type</th></tr><tr><td>str</td><td>f64</td><td>f64</td><td>f64</td><td>f64</td><td>f64</td><td>f64</td><td>i64</td><td>str</td><td>str</td><td>str</td></tr></thead><tbody><tr><td>&quot;01/01/2018 00:15&quot;</td><td>3.17</td><td>2.95</td><td>0.0</td><td>0.0</td><td>73.21</td><td>100.0</td><td>900</td><td>&quot;Weekday&quot;</td><td>&quot;Monday&quot;</td><td>&quot;Light_Load&quot;</td></tr><tr><td>&quot;01/01/2018 00:30&quot;</td><td>4.0</td><td>4.46</td><td>0.0</td><td>0.0</td><td>66.77</td><td>100.0</td><td>1800</td><td>&quot;Weekday&quot;</td><td>&quot;Monday&quot;</td><td>&quot;Light_Load&quot;</td></tr><tr><td>&quot;01/01/2018 00:45&quot;</td><td>3.24</td><td>3.28</td><td>0.0</td><td>0.0</td><td>70.28</td><td>100.0</td><td>2700</td><td>&quot;Weekday&quot;</td><td>&quot;Monday&quot;</td><td>&quot;Light_Load&quot;</td></tr><tr><td>&quot;01/01/2018 01:00&quot;</td><td>3.31</td><td>3.56</td><td>0.0</td><td>0.0</td><td>68.09</td><td>100.0</td><td>3600</td><td>&quot;Weekday&quot;</td><td>&quot;Monday&quot;</td><td>&quot;Light_Load&quot;</td></tr><tr><td>&quot;01/01/2018 01:15&quot;</td><td>3.82</td><td>4.5</td><td>0.0</td><td>0.0</td><td>64.72</td><td>100.0</td><td>4500</td><td>&quot;Weekday&quot;</td><td>&quot;Monday&quot;</td><td>&quot;Light_Load&quot;</td></tr><tr><td>&quot;01/01/2018 01:30&quot;</td><td>3.28</td><td>3.56</td><td>0.0</td><td>0.0</td><td>67.76</td><td>100.0</td><td>5400</td><td>&quot;Weekday&quot;</td><td>&quot;Monday&quot;</td><td>&quot;Light_Load&quot;</td></tr><tr><td>&quot;01/01/2018 01:45&quot;</td><td>3.6</td><td>4.14</td><td>0.0</td><td>0.0</td><td>65.62</td><td>100.0</td><td>6300</td><td>&quot;Weekday&quot;</td><td>&quot;Monday&quot;</td><td>&quot;Light_Load&quot;</td></tr><tr><td>&quot;01/01/2018 02:00&quot;</td><td>3.6</td><td>4.28</td><td>0.0</td><td>0.0</td><td>64.37</td><td>100.0</td><td>7200</td><td>&quot;Weekday&quot;</td><td>&quot;Monday&quot;</td><td>&quot;Light_Load&quot;</td></tr><tr><td>&quot;01/01/2018 02:15&quot;</td><td>3.28</td><td>3.64</td><td>0.0</td><td>0.0</td><td>66.94</td><td>100.0</td><td>8100</td><td>&quot;Weekday&quot;</td><td>&quot;Monday&quot;</td><td>&quot;Light_Load&quot;</td></tr><tr><td>&quot;01/01/2018 02:30&quot;</td><td>3.78</td><td>4.72</td><td>0.0</td><td>0.0</td><td>62.51</td><td>100.0</td><td>9000</td><td>&quot;Weekday&quot;</td><td>&quot;Monday&quot;</td><td>&quot;Light_Load&quot;</td></tr></tbody></table></div>"
      ],
      "text/plain": [
       "shape: (10, 11)\n",
       "┌────────────┬───────────┬────────────┬────────────┬───┬──────┬────────────┬───────────┬───────────┐\n",
       "│ date       ┆ Usage_kWh ┆ Lagging_Cu ┆ Leading_Cu ┆ … ┆ NSM  ┆ WeekStatus ┆ Day_of_we ┆ Load_Type │\n",
       "│ ---        ┆ ---       ┆ rrent_Reac ┆ rrent_Reac ┆   ┆ ---  ┆ ---        ┆ ek        ┆ ---       │\n",
       "│ str        ┆ f64       ┆ tive.Power ┆ tive_Power ┆   ┆ i64  ┆ str        ┆ ---       ┆ str       │\n",
       "│            ┆           ┆ …          ┆ …          ┆   ┆      ┆            ┆ str       ┆           │\n",
       "│            ┆           ┆ ---        ┆ ---        ┆   ┆      ┆            ┆           ┆           │\n",
       "│            ┆           ┆ f64        ┆ f64        ┆   ┆      ┆            ┆           ┆           │\n",
       "╞════════════╪═══════════╪════════════╪════════════╪═══╪══════╪════════════╪═══════════╪═══════════╡\n",
       "│ 01/01/2018 ┆ 3.17      ┆ 2.95       ┆ 0.0        ┆ … ┆ 900  ┆ Weekday    ┆ Monday    ┆ Light_Loa │\n",
       "│ 00:15      ┆           ┆            ┆            ┆   ┆      ┆            ┆           ┆ d         │\n",
       "│ 01/01/2018 ┆ 4.0       ┆ 4.46       ┆ 0.0        ┆ … ┆ 1800 ┆ Weekday    ┆ Monday    ┆ Light_Loa │\n",
       "│ 00:30      ┆           ┆            ┆            ┆   ┆      ┆            ┆           ┆ d         │\n",
       "│ 01/01/2018 ┆ 3.24      ┆ 3.28       ┆ 0.0        ┆ … ┆ 2700 ┆ Weekday    ┆ Monday    ┆ Light_Loa │\n",
       "│ 00:45      ┆           ┆            ┆            ┆   ┆      ┆            ┆           ┆ d         │\n",
       "│ 01/01/2018 ┆ 3.31      ┆ 3.56       ┆ 0.0        ┆ … ┆ 3600 ┆ Weekday    ┆ Monday    ┆ Light_Loa │\n",
       "│ 01:00      ┆           ┆            ┆            ┆   ┆      ┆            ┆           ┆ d         │\n",
       "│ 01/01/2018 ┆ 3.82      ┆ 4.5        ┆ 0.0        ┆ … ┆ 4500 ┆ Weekday    ┆ Monday    ┆ Light_Loa │\n",
       "│ 01:15      ┆           ┆            ┆            ┆   ┆      ┆            ┆           ┆ d         │\n",
       "│ 01/01/2018 ┆ 3.28      ┆ 3.56       ┆ 0.0        ┆ … ┆ 5400 ┆ Weekday    ┆ Monday    ┆ Light_Loa │\n",
       "│ 01:30      ┆           ┆            ┆            ┆   ┆      ┆            ┆           ┆ d         │\n",
       "│ 01/01/2018 ┆ 3.6       ┆ 4.14       ┆ 0.0        ┆ … ┆ 6300 ┆ Weekday    ┆ Monday    ┆ Light_Loa │\n",
       "│ 01:45      ┆           ┆            ┆            ┆   ┆      ┆            ┆           ┆ d         │\n",
       "│ 01/01/2018 ┆ 3.6       ┆ 4.28       ┆ 0.0        ┆ … ┆ 7200 ┆ Weekday    ┆ Monday    ┆ Light_Loa │\n",
       "│ 02:00      ┆           ┆            ┆            ┆   ┆      ┆            ┆           ┆ d         │\n",
       "│ 01/01/2018 ┆ 3.28      ┆ 3.64       ┆ 0.0        ┆ … ┆ 8100 ┆ Weekday    ┆ Monday    ┆ Light_Loa │\n",
       "│ 02:15      ┆           ┆            ┆            ┆   ┆      ┆            ┆           ┆ d         │\n",
       "│ 01/01/2018 ┆ 3.78      ┆ 4.72       ┆ 0.0        ┆ … ┆ 9000 ┆ Weekday    ┆ Monday    ┆ Light_Loa │\n",
       "│ 02:30      ┆           ┆            ┆            ┆   ┆      ┆            ┆           ┆ d         │\n",
       "└────────────┴───────────┴────────────┴────────────┴───┴──────┴────────────┴───────────┴───────────┘"
      ]
     },
     "execution_count": 4,
     "metadata": {},
     "output_type": "execute_result"
    }
   ],
   "source": [
    "# Query 1: Primeras 10 filas usando quick_query (no necesita manejar conexión)\n",
    "df = quick_query(\"SELECT * FROM steel_cleaned LIMIT 10\", db_path=\"../../data/steel.duckdb\")\n",
    "df"
   ]
  },
  {
   "cell_type": "code",
   "execution_count": 5,
   "metadata": {},
   "outputs": [
    {
     "name": "stderr",
     "output_type": "stream",
     "text": [
      "INFO:src.data.load_to_duckdb:✅ Connected to DuckDB: ../../data/steel.duckdb\n",
      "INFO:src.data.load_to_duckdb:✅ Query executed: 4 rows returned\n"
     ]
    },
    {
     "data": {
      "text/html": [
       "<div><style>\n",
       ".dataframe > thead > tr,\n",
       ".dataframe > tbody > tr {\n",
       "  text-align: right;\n",
       "  white-space: pre-wrap;\n",
       "}\n",
       "</style>\n",
       "<small>shape: (4, 6)</small><table border=\"1\" class=\"dataframe\"><thead><tr><th>Load_Type</th><th>count</th><th>avg</th><th>min</th><th>max</th><th>std</th></tr><tr><td>str</td><td>i64</td><td>f64</td><td>f64</td><td>f64</td><td>f64</td></tr></thead><tbody><tr><td>&quot;Maximum_Load&quot;</td><td>7164</td><td>60.38</td><td>2.92</td><td>149.65</td><td>31.06</td></tr><tr><td>&quot;Medium_Load&quot;</td><td>9584</td><td>39.83</td><td>2.59</td><td>149.65</td><td>37.02</td></tr><tr><td>&quot;Nan&quot;</td><td>19</td><td>35.33</td><td>2.81</td><td>130.03</td><td>40.72</td></tr><tr><td>&quot;Light_Load&quot;</td><td>18166</td><td>10.31</td><td>2.59</td><td>149.65</td><td>22.78</td></tr></tbody></table></div>"
      ],
      "text/plain": [
       "shape: (4, 6)\n",
       "┌──────────────┬───────┬───────┬──────┬────────┬───────┐\n",
       "│ Load_Type    ┆ count ┆ avg   ┆ min  ┆ max    ┆ std   │\n",
       "│ ---          ┆ ---   ┆ ---   ┆ ---  ┆ ---    ┆ ---   │\n",
       "│ str          ┆ i64   ┆ f64   ┆ f64  ┆ f64    ┆ f64   │\n",
       "╞══════════════╪═══════╪═══════╪══════╪════════╪═══════╡\n",
       "│ Maximum_Load ┆ 7164  ┆ 60.38 ┆ 2.92 ┆ 149.65 ┆ 31.06 │\n",
       "│ Medium_Load  ┆ 9584  ┆ 39.83 ┆ 2.59 ┆ 149.65 ┆ 37.02 │\n",
       "│ Nan          ┆ 19    ┆ 35.33 ┆ 2.81 ┆ 130.03 ┆ 40.72 │\n",
       "│ Light_Load   ┆ 18166 ┆ 10.31 ┆ 2.59 ┆ 149.65 ┆ 22.78 │\n",
       "└──────────────┴───────┴───────┴──────┴────────┴───────┘"
      ]
     },
     "execution_count": 5,
     "metadata": {},
     "output_type": "execute_result"
    }
   ],
   "source": [
    "# Query 2: Estadísticas por Load_Type usando función reutilizable\n",
    "df_stats = get_stats_by_column(\n",
    "    table_name='steel_cleaned',\n",
    "    group_by_column='Load_Type',\n",
    "    agg_column='Usage_kWh',\n",
    "    db_path=\"../../data/steel.duckdb\"\n",
    ")\n",
    "\n",
    "df_stats"
   ]
  },
  {
   "cell_type": "code",
   "execution_count": 6,
   "metadata": {},
   "outputs": [
    {
     "data": {
      "application/vnd.plotly.v1+json": {
       "config": {
        "plotlyServerURL": "https://plot.ly"
       },
       "data": [
        {
         "alignmentgroup": "True",
         "hovertemplate": "Tipo de Carga=%{x}<br>Uso Promedio (kWh)=%{y}<extra></extra>",
         "legendgroup": "",
         "marker": {
          "color": "#636efa",
          "pattern": {
           "shape": ""
          }
         },
         "name": "",
         "offsetgroup": "",
         "orientation": "v",
         "showlegend": false,
         "textposition": "auto",
         "type": "bar",
         "x": [
          "Maximum_Load",
          "Medium_Load",
          "Nan",
          "Light_Load"
         ],
         "xaxis": "x",
         "y": [
          60.38,
          39.83,
          35.33,
          10.31
         ],
         "yaxis": "y"
        }
       ],
       "layout": {
        "barmode": "relative",
        "legend": {
         "tracegroupgap": 0
        },
        "template": {
         "data": {
          "bar": [
           {
            "error_x": {
             "color": "#2a3f5f"
            },
            "error_y": {
             "color": "#2a3f5f"
            },
            "marker": {
             "line": {
              "color": "#E5ECF6",
              "width": 0.5
             },
             "pattern": {
              "fillmode": "overlay",
              "size": 10,
              "solidity": 0.2
             }
            },
            "type": "bar"
           }
          ],
          "barpolar": [
           {
            "marker": {
             "line": {
              "color": "#E5ECF6",
              "width": 0.5
             },
             "pattern": {
              "fillmode": "overlay",
              "size": 10,
              "solidity": 0.2
             }
            },
            "type": "barpolar"
           }
          ],
          "carpet": [
           {
            "aaxis": {
             "endlinecolor": "#2a3f5f",
             "gridcolor": "white",
             "linecolor": "white",
             "minorgridcolor": "white",
             "startlinecolor": "#2a3f5f"
            },
            "baxis": {
             "endlinecolor": "#2a3f5f",
             "gridcolor": "white",
             "linecolor": "white",
             "minorgridcolor": "white",
             "startlinecolor": "#2a3f5f"
            },
            "type": "carpet"
           }
          ],
          "choropleth": [
           {
            "colorbar": {
             "outlinewidth": 0,
             "ticks": ""
            },
            "type": "choropleth"
           }
          ],
          "contour": [
           {
            "colorbar": {
             "outlinewidth": 0,
             "ticks": ""
            },
            "colorscale": [
             [
              0,
              "#0d0887"
             ],
             [
              0.1111111111111111,
              "#46039f"
             ],
             [
              0.2222222222222222,
              "#7201a8"
             ],
             [
              0.3333333333333333,
              "#9c179e"
             ],
             [
              0.4444444444444444,
              "#bd3786"
             ],
             [
              0.5555555555555556,
              "#d8576b"
             ],
             [
              0.6666666666666666,
              "#ed7953"
             ],
             [
              0.7777777777777778,
              "#fb9f3a"
             ],
             [
              0.8888888888888888,
              "#fdca26"
             ],
             [
              1,
              "#f0f921"
             ]
            ],
            "type": "contour"
           }
          ],
          "contourcarpet": [
           {
            "colorbar": {
             "outlinewidth": 0,
             "ticks": ""
            },
            "type": "contourcarpet"
           }
          ],
          "heatmap": [
           {
            "colorbar": {
             "outlinewidth": 0,
             "ticks": ""
            },
            "colorscale": [
             [
              0,
              "#0d0887"
             ],
             [
              0.1111111111111111,
              "#46039f"
             ],
             [
              0.2222222222222222,
              "#7201a8"
             ],
             [
              0.3333333333333333,
              "#9c179e"
             ],
             [
              0.4444444444444444,
              "#bd3786"
             ],
             [
              0.5555555555555556,
              "#d8576b"
             ],
             [
              0.6666666666666666,
              "#ed7953"
             ],
             [
              0.7777777777777778,
              "#fb9f3a"
             ],
             [
              0.8888888888888888,
              "#fdca26"
             ],
             [
              1,
              "#f0f921"
             ]
            ],
            "type": "heatmap"
           }
          ],
          "heatmapgl": [
           {
            "colorbar": {
             "outlinewidth": 0,
             "ticks": ""
            },
            "colorscale": [
             [
              0,
              "#0d0887"
             ],
             [
              0.1111111111111111,
              "#46039f"
             ],
             [
              0.2222222222222222,
              "#7201a8"
             ],
             [
              0.3333333333333333,
              "#9c179e"
             ],
             [
              0.4444444444444444,
              "#bd3786"
             ],
             [
              0.5555555555555556,
              "#d8576b"
             ],
             [
              0.6666666666666666,
              "#ed7953"
             ],
             [
              0.7777777777777778,
              "#fb9f3a"
             ],
             [
              0.8888888888888888,
              "#fdca26"
             ],
             [
              1,
              "#f0f921"
             ]
            ],
            "type": "heatmapgl"
           }
          ],
          "histogram": [
           {
            "marker": {
             "pattern": {
              "fillmode": "overlay",
              "size": 10,
              "solidity": 0.2
             }
            },
            "type": "histogram"
           }
          ],
          "histogram2d": [
           {
            "colorbar": {
             "outlinewidth": 0,
             "ticks": ""
            },
            "colorscale": [
             [
              0,
              "#0d0887"
             ],
             [
              0.1111111111111111,
              "#46039f"
             ],
             [
              0.2222222222222222,
              "#7201a8"
             ],
             [
              0.3333333333333333,
              "#9c179e"
             ],
             [
              0.4444444444444444,
              "#bd3786"
             ],
             [
              0.5555555555555556,
              "#d8576b"
             ],
             [
              0.6666666666666666,
              "#ed7953"
             ],
             [
              0.7777777777777778,
              "#fb9f3a"
             ],
             [
              0.8888888888888888,
              "#fdca26"
             ],
             [
              1,
              "#f0f921"
             ]
            ],
            "type": "histogram2d"
           }
          ],
          "histogram2dcontour": [
           {
            "colorbar": {
             "outlinewidth": 0,
             "ticks": ""
            },
            "colorscale": [
             [
              0,
              "#0d0887"
             ],
             [
              0.1111111111111111,
              "#46039f"
             ],
             [
              0.2222222222222222,
              "#7201a8"
             ],
             [
              0.3333333333333333,
              "#9c179e"
             ],
             [
              0.4444444444444444,
              "#bd3786"
             ],
             [
              0.5555555555555556,
              "#d8576b"
             ],
             [
              0.6666666666666666,
              "#ed7953"
             ],
             [
              0.7777777777777778,
              "#fb9f3a"
             ],
             [
              0.8888888888888888,
              "#fdca26"
             ],
             [
              1,
              "#f0f921"
             ]
            ],
            "type": "histogram2dcontour"
           }
          ],
          "mesh3d": [
           {
            "colorbar": {
             "outlinewidth": 0,
             "ticks": ""
            },
            "type": "mesh3d"
           }
          ],
          "parcoords": [
           {
            "line": {
             "colorbar": {
              "outlinewidth": 0,
              "ticks": ""
             }
            },
            "type": "parcoords"
           }
          ],
          "pie": [
           {
            "automargin": true,
            "type": "pie"
           }
          ],
          "scatter": [
           {
            "fillpattern": {
             "fillmode": "overlay",
             "size": 10,
             "solidity": 0.2
            },
            "type": "scatter"
           }
          ],
          "scatter3d": [
           {
            "line": {
             "colorbar": {
              "outlinewidth": 0,
              "ticks": ""
             }
            },
            "marker": {
             "colorbar": {
              "outlinewidth": 0,
              "ticks": ""
             }
            },
            "type": "scatter3d"
           }
          ],
          "scattercarpet": [
           {
            "marker": {
             "colorbar": {
              "outlinewidth": 0,
              "ticks": ""
             }
            },
            "type": "scattercarpet"
           }
          ],
          "scattergeo": [
           {
            "marker": {
             "colorbar": {
              "outlinewidth": 0,
              "ticks": ""
             }
            },
            "type": "scattergeo"
           }
          ],
          "scattergl": [
           {
            "marker": {
             "colorbar": {
              "outlinewidth": 0,
              "ticks": ""
             }
            },
            "type": "scattergl"
           }
          ],
          "scattermapbox": [
           {
            "marker": {
             "colorbar": {
              "outlinewidth": 0,
              "ticks": ""
             }
            },
            "type": "scattermapbox"
           }
          ],
          "scatterpolar": [
           {
            "marker": {
             "colorbar": {
              "outlinewidth": 0,
              "ticks": ""
             }
            },
            "type": "scatterpolar"
           }
          ],
          "scatterpolargl": [
           {
            "marker": {
             "colorbar": {
              "outlinewidth": 0,
              "ticks": ""
             }
            },
            "type": "scatterpolargl"
           }
          ],
          "scatterternary": [
           {
            "marker": {
             "colorbar": {
              "outlinewidth": 0,
              "ticks": ""
             }
            },
            "type": "scatterternary"
           }
          ],
          "surface": [
           {
            "colorbar": {
             "outlinewidth": 0,
             "ticks": ""
            },
            "colorscale": [
             [
              0,
              "#0d0887"
             ],
             [
              0.1111111111111111,
              "#46039f"
             ],
             [
              0.2222222222222222,
              "#7201a8"
             ],
             [
              0.3333333333333333,
              "#9c179e"
             ],
             [
              0.4444444444444444,
              "#bd3786"
             ],
             [
              0.5555555555555556,
              "#d8576b"
             ],
             [
              0.6666666666666666,
              "#ed7953"
             ],
             [
              0.7777777777777778,
              "#fb9f3a"
             ],
             [
              0.8888888888888888,
              "#fdca26"
             ],
             [
              1,
              "#f0f921"
             ]
            ],
            "type": "surface"
           }
          ],
          "table": [
           {
            "cells": {
             "fill": {
              "color": "#EBF0F8"
             },
             "line": {
              "color": "white"
             }
            },
            "header": {
             "fill": {
              "color": "#C8D4E3"
             },
             "line": {
              "color": "white"
             }
            },
            "type": "table"
           }
          ]
         },
         "layout": {
          "annotationdefaults": {
           "arrowcolor": "#2a3f5f",
           "arrowhead": 0,
           "arrowwidth": 1
          },
          "autotypenumbers": "strict",
          "coloraxis": {
           "colorbar": {
            "outlinewidth": 0,
            "ticks": ""
           }
          },
          "colorscale": {
           "diverging": [
            [
             0,
             "#8e0152"
            ],
            [
             0.1,
             "#c51b7d"
            ],
            [
             0.2,
             "#de77ae"
            ],
            [
             0.3,
             "#f1b6da"
            ],
            [
             0.4,
             "#fde0ef"
            ],
            [
             0.5,
             "#f7f7f7"
            ],
            [
             0.6,
             "#e6f5d0"
            ],
            [
             0.7,
             "#b8e186"
            ],
            [
             0.8,
             "#7fbc41"
            ],
            [
             0.9,
             "#4d9221"
            ],
            [
             1,
             "#276419"
            ]
           ],
           "sequential": [
            [
             0,
             "#0d0887"
            ],
            [
             0.1111111111111111,
             "#46039f"
            ],
            [
             0.2222222222222222,
             "#7201a8"
            ],
            [
             0.3333333333333333,
             "#9c179e"
            ],
            [
             0.4444444444444444,
             "#bd3786"
            ],
            [
             0.5555555555555556,
             "#d8576b"
            ],
            [
             0.6666666666666666,
             "#ed7953"
            ],
            [
             0.7777777777777778,
             "#fb9f3a"
            ],
            [
             0.8888888888888888,
             "#fdca26"
            ],
            [
             1,
             "#f0f921"
            ]
           ],
           "sequentialminus": [
            [
             0,
             "#0d0887"
            ],
            [
             0.1111111111111111,
             "#46039f"
            ],
            [
             0.2222222222222222,
             "#7201a8"
            ],
            [
             0.3333333333333333,
             "#9c179e"
            ],
            [
             0.4444444444444444,
             "#bd3786"
            ],
            [
             0.5555555555555556,
             "#d8576b"
            ],
            [
             0.6666666666666666,
             "#ed7953"
            ],
            [
             0.7777777777777778,
             "#fb9f3a"
            ],
            [
             0.8888888888888888,
             "#fdca26"
            ],
            [
             1,
             "#f0f921"
            ]
           ]
          },
          "colorway": [
           "#636efa",
           "#EF553B",
           "#00cc96",
           "#ab63fa",
           "#FFA15A",
           "#19d3f3",
           "#FF6692",
           "#B6E880",
           "#FF97FF",
           "#FECB52"
          ],
          "font": {
           "color": "#2a3f5f"
          },
          "geo": {
           "bgcolor": "white",
           "lakecolor": "white",
           "landcolor": "#E5ECF6",
           "showlakes": true,
           "showland": true,
           "subunitcolor": "white"
          },
          "hoverlabel": {
           "align": "left"
          },
          "hovermode": "closest",
          "mapbox": {
           "style": "light"
          },
          "paper_bgcolor": "white",
          "plot_bgcolor": "#E5ECF6",
          "polar": {
           "angularaxis": {
            "gridcolor": "white",
            "linecolor": "white",
            "ticks": ""
           },
           "bgcolor": "#E5ECF6",
           "radialaxis": {
            "gridcolor": "white",
            "linecolor": "white",
            "ticks": ""
           }
          },
          "scene": {
           "xaxis": {
            "backgroundcolor": "#E5ECF6",
            "gridcolor": "white",
            "gridwidth": 2,
            "linecolor": "white",
            "showbackground": true,
            "ticks": "",
            "zerolinecolor": "white"
           },
           "yaxis": {
            "backgroundcolor": "#E5ECF6",
            "gridcolor": "white",
            "gridwidth": 2,
            "linecolor": "white",
            "showbackground": true,
            "ticks": "",
            "zerolinecolor": "white"
           },
           "zaxis": {
            "backgroundcolor": "#E5ECF6",
            "gridcolor": "white",
            "gridwidth": 2,
            "linecolor": "white",
            "showbackground": true,
            "ticks": "",
            "zerolinecolor": "white"
           }
          },
          "shapedefaults": {
           "line": {
            "color": "#2a3f5f"
           }
          },
          "ternary": {
           "aaxis": {
            "gridcolor": "white",
            "linecolor": "white",
            "ticks": ""
           },
           "baxis": {
            "gridcolor": "white",
            "linecolor": "white",
            "ticks": ""
           },
           "bgcolor": "#E5ECF6",
           "caxis": {
            "gridcolor": "white",
            "linecolor": "white",
            "ticks": ""
           }
          },
          "title": {
           "x": 0.05
          },
          "xaxis": {
           "automargin": true,
           "gridcolor": "white",
           "linecolor": "white",
           "ticks": "",
           "title": {
            "standoff": 15
           },
           "zerolinecolor": "white",
           "zerolinewidth": 2
          },
          "yaxis": {
           "automargin": true,
           "gridcolor": "white",
           "linecolor": "white",
           "ticks": "",
           "title": {
            "standoff": 15
           },
           "zerolinecolor": "white",
           "zerolinewidth": 2
          }
         }
        },
        "title": {
         "text": "Consumo Energético Promedio por Tipo de Carga"
        },
        "xaxis": {
         "anchor": "y",
         "domain": [
          0,
          1
         ],
         "title": {
          "text": "Tipo de Carga"
         }
        },
        "yaxis": {
         "anchor": "x",
         "domain": [
          0,
          1
         ],
         "title": {
          "text": "Uso Promedio (kWh)"
         }
        }
       }
      }
     },
     "metadata": {},
     "output_type": "display_data"
    }
   ],
   "source": [
    "# Visualizar\n",
    "fig = px.bar(\n",
    "    df_stats.to_pandas(),\n",
    "    x='Load_Type',\n",
    "    y='avg',\n",
    "    title='Consumo Energético Promedio por Tipo de Carga',\n",
    "    labels={'avg': 'Uso Promedio (kWh)', 'Load_Type': 'Tipo de Carga'}\n",
    ")\n",
    "fig.show()"
   ]
  },
  {
   "cell_type": "markdown",
   "metadata": {},
   "source": [
    "## 4. Análisis Temporal\n",
    "\n",
    "Usando `get_temporal_stats()` para análisis por hora/día."
   ]
  },
  {
   "cell_type": "code",
   "execution_count": 7,
   "metadata": {},
   "outputs": [
    {
     "name": "stderr",
     "output_type": "stream",
     "text": [
      "INFO:src.data.load_to_duckdb:✅ Connected to DuckDB: ../../data/steel.duckdb\n",
      "INFO:src.data.load_to_duckdb:✅ Query executed: 8 rows returned\n"
     ]
    },
    {
     "data": {
      "text/html": [
       "<div><style>\n",
       ".dataframe > thead > tr,\n",
       ".dataframe > tbody > tr {\n",
       "  text-align: right;\n",
       "  white-space: pre-wrap;\n",
       "}\n",
       "</style>\n",
       "<small>shape: (8, 6)</small><table border=\"1\" class=\"dataframe\"><thead><tr><th>Day_of_week</th><th>count</th><th>avg</th><th>min</th><th>max</th><th>std</th></tr><tr><td>str</td><td>i64</td><td>f64</td><td>f64</td><td>f64</td><td>f64</td></tr></thead><tbody><tr><td>&quot;Thursday&quot;</td><td>4922</td><td>36.39</td><td>2.59</td><td>149.65</td><td>37.98</td></tr><tr><td>&quot;Tuesday&quot;</td><td>4926</td><td>35.52</td><td>2.59</td><td>149.65</td><td>37.52</td></tr><tr><td>&quot;Friday&quot;</td><td>4946</td><td>34.72</td><td>2.59</td><td>149.65</td><td>37.06</td></tr><tr><td>&quot;Monday&quot;</td><td>5332</td><td>34.2</td><td>2.59</td><td>149.65</td><td>37.21</td></tr><tr><td>&quot;Wednesday&quot;</td><td>4939</td><td>33.43</td><td>2.59</td><td>149.65</td><td>37.33</td></tr><tr><td>&quot;Nan&quot;</td><td>15</td><td>23.25</td><td>2.95</td><td>110.74</td><td>34.43</td></tr><tr><td>&quot;Saturday&quot;</td><td>4933</td><td>17.25</td><td>2.59</td><td>149.65</td><td>26.68</td></tr><tr><td>&quot;Sunday&quot;</td><td>4920</td><td>8.84</td><td>2.59</td><td>149.65</td><td>19.39</td></tr></tbody></table></div>"
      ],
      "text/plain": [
       "shape: (8, 6)\n",
       "┌─────────────┬───────┬───────┬──────┬────────┬───────┐\n",
       "│ Day_of_week ┆ count ┆ avg   ┆ min  ┆ max    ┆ std   │\n",
       "│ ---         ┆ ---   ┆ ---   ┆ ---  ┆ ---    ┆ ---   │\n",
       "│ str         ┆ i64   ┆ f64   ┆ f64  ┆ f64    ┆ f64   │\n",
       "╞═════════════╪═══════╪═══════╪══════╪════════╪═══════╡\n",
       "│ Thursday    ┆ 4922  ┆ 36.39 ┆ 2.59 ┆ 149.65 ┆ 37.98 │\n",
       "│ Tuesday     ┆ 4926  ┆ 35.52 ┆ 2.59 ┆ 149.65 ┆ 37.52 │\n",
       "│ Friday      ┆ 4946  ┆ 34.72 ┆ 2.59 ┆ 149.65 ┆ 37.06 │\n",
       "│ Monday      ┆ 5332  ┆ 34.2  ┆ 2.59 ┆ 149.65 ┆ 37.21 │\n",
       "│ Wednesday   ┆ 4939  ┆ 33.43 ┆ 2.59 ┆ 149.65 ┆ 37.33 │\n",
       "│ Nan         ┆ 15    ┆ 23.25 ┆ 2.95 ┆ 110.74 ┆ 34.43 │\n",
       "│ Saturday    ┆ 4933  ┆ 17.25 ┆ 2.59 ┆ 149.65 ┆ 26.68 │\n",
       "│ Sunday      ┆ 4920  ┆ 8.84  ┆ 2.59 ┆ 149.65 ┆ 19.39 │\n",
       "└─────────────┴───────┴───────┴──────┴────────┴───────┘"
      ]
     },
     "execution_count": 7,
     "metadata": {},
     "output_type": "execute_result"
    }
   ],
   "source": [
    "# Query 3: Consumo por Día de la Semana usando función reutilizable\n",
    "df_day = get_stats_by_column(\n",
    "    table_name='steel_cleaned',\n",
    "    group_by_column='Day_of_week',\n",
    "    agg_column='Usage_kWh',\n",
    "    db_path=\"../../data/steel.duckdb\"\n",
    ")\n",
    "\n",
    "df_day"
   ]
  },
  {
   "cell_type": "code",
   "execution_count": 8,
   "metadata": {},
   "outputs": [
    {
     "data": {
      "application/vnd.plotly.v1+json": {
       "config": {
        "plotlyServerURL": "https://plot.ly"
       },
       "data": [
        {
         "hovertemplate": "Day_of_week=%{x}<br>avg=%{y}<extra></extra>",
         "legendgroup": "",
         "line": {
          "color": "#636efa",
          "dash": "solid"
         },
         "marker": {
          "symbol": "circle"
         },
         "mode": "lines+markers",
         "name": "",
         "orientation": "v",
         "showlegend": false,
         "type": "scatter",
         "x": [
          "Thursday",
          "Tuesday",
          "Friday",
          "Monday",
          "Wednesday",
          "Nan",
          "Saturday",
          "Sunday"
         ],
         "xaxis": "x",
         "y": [
          36.39,
          35.52,
          34.72,
          34.2,
          33.43,
          23.25,
          17.25,
          8.84
         ],
         "yaxis": "y"
        }
       ],
       "layout": {
        "legend": {
         "tracegroupgap": 0
        },
        "template": {
         "data": {
          "bar": [
           {
            "error_x": {
             "color": "#2a3f5f"
            },
            "error_y": {
             "color": "#2a3f5f"
            },
            "marker": {
             "line": {
              "color": "#E5ECF6",
              "width": 0.5
             },
             "pattern": {
              "fillmode": "overlay",
              "size": 10,
              "solidity": 0.2
             }
            },
            "type": "bar"
           }
          ],
          "barpolar": [
           {
            "marker": {
             "line": {
              "color": "#E5ECF6",
              "width": 0.5
             },
             "pattern": {
              "fillmode": "overlay",
              "size": 10,
              "solidity": 0.2
             }
            },
            "type": "barpolar"
           }
          ],
          "carpet": [
           {
            "aaxis": {
             "endlinecolor": "#2a3f5f",
             "gridcolor": "white",
             "linecolor": "white",
             "minorgridcolor": "white",
             "startlinecolor": "#2a3f5f"
            },
            "baxis": {
             "endlinecolor": "#2a3f5f",
             "gridcolor": "white",
             "linecolor": "white",
             "minorgridcolor": "white",
             "startlinecolor": "#2a3f5f"
            },
            "type": "carpet"
           }
          ],
          "choropleth": [
           {
            "colorbar": {
             "outlinewidth": 0,
             "ticks": ""
            },
            "type": "choropleth"
           }
          ],
          "contour": [
           {
            "colorbar": {
             "outlinewidth": 0,
             "ticks": ""
            },
            "colorscale": [
             [
              0,
              "#0d0887"
             ],
             [
              0.1111111111111111,
              "#46039f"
             ],
             [
              0.2222222222222222,
              "#7201a8"
             ],
             [
              0.3333333333333333,
              "#9c179e"
             ],
             [
              0.4444444444444444,
              "#bd3786"
             ],
             [
              0.5555555555555556,
              "#d8576b"
             ],
             [
              0.6666666666666666,
              "#ed7953"
             ],
             [
              0.7777777777777778,
              "#fb9f3a"
             ],
             [
              0.8888888888888888,
              "#fdca26"
             ],
             [
              1,
              "#f0f921"
             ]
            ],
            "type": "contour"
           }
          ],
          "contourcarpet": [
           {
            "colorbar": {
             "outlinewidth": 0,
             "ticks": ""
            },
            "type": "contourcarpet"
           }
          ],
          "heatmap": [
           {
            "colorbar": {
             "outlinewidth": 0,
             "ticks": ""
            },
            "colorscale": [
             [
              0,
              "#0d0887"
             ],
             [
              0.1111111111111111,
              "#46039f"
             ],
             [
              0.2222222222222222,
              "#7201a8"
             ],
             [
              0.3333333333333333,
              "#9c179e"
             ],
             [
              0.4444444444444444,
              "#bd3786"
             ],
             [
              0.5555555555555556,
              "#d8576b"
             ],
             [
              0.6666666666666666,
              "#ed7953"
             ],
             [
              0.7777777777777778,
              "#fb9f3a"
             ],
             [
              0.8888888888888888,
              "#fdca26"
             ],
             [
              1,
              "#f0f921"
             ]
            ],
            "type": "heatmap"
           }
          ],
          "heatmapgl": [
           {
            "colorbar": {
             "outlinewidth": 0,
             "ticks": ""
            },
            "colorscale": [
             [
              0,
              "#0d0887"
             ],
             [
              0.1111111111111111,
              "#46039f"
             ],
             [
              0.2222222222222222,
              "#7201a8"
             ],
             [
              0.3333333333333333,
              "#9c179e"
             ],
             [
              0.4444444444444444,
              "#bd3786"
             ],
             [
              0.5555555555555556,
              "#d8576b"
             ],
             [
              0.6666666666666666,
              "#ed7953"
             ],
             [
              0.7777777777777778,
              "#fb9f3a"
             ],
             [
              0.8888888888888888,
              "#fdca26"
             ],
             [
              1,
              "#f0f921"
             ]
            ],
            "type": "heatmapgl"
           }
          ],
          "histogram": [
           {
            "marker": {
             "pattern": {
              "fillmode": "overlay",
              "size": 10,
              "solidity": 0.2
             }
            },
            "type": "histogram"
           }
          ],
          "histogram2d": [
           {
            "colorbar": {
             "outlinewidth": 0,
             "ticks": ""
            },
            "colorscale": [
             [
              0,
              "#0d0887"
             ],
             [
              0.1111111111111111,
              "#46039f"
             ],
             [
              0.2222222222222222,
              "#7201a8"
             ],
             [
              0.3333333333333333,
              "#9c179e"
             ],
             [
              0.4444444444444444,
              "#bd3786"
             ],
             [
              0.5555555555555556,
              "#d8576b"
             ],
             [
              0.6666666666666666,
              "#ed7953"
             ],
             [
              0.7777777777777778,
              "#fb9f3a"
             ],
             [
              0.8888888888888888,
              "#fdca26"
             ],
             [
              1,
              "#f0f921"
             ]
            ],
            "type": "histogram2d"
           }
          ],
          "histogram2dcontour": [
           {
            "colorbar": {
             "outlinewidth": 0,
             "ticks": ""
            },
            "colorscale": [
             [
              0,
              "#0d0887"
             ],
             [
              0.1111111111111111,
              "#46039f"
             ],
             [
              0.2222222222222222,
              "#7201a8"
             ],
             [
              0.3333333333333333,
              "#9c179e"
             ],
             [
              0.4444444444444444,
              "#bd3786"
             ],
             [
              0.5555555555555556,
              "#d8576b"
             ],
             [
              0.6666666666666666,
              "#ed7953"
             ],
             [
              0.7777777777777778,
              "#fb9f3a"
             ],
             [
              0.8888888888888888,
              "#fdca26"
             ],
             [
              1,
              "#f0f921"
             ]
            ],
            "type": "histogram2dcontour"
           }
          ],
          "mesh3d": [
           {
            "colorbar": {
             "outlinewidth": 0,
             "ticks": ""
            },
            "type": "mesh3d"
           }
          ],
          "parcoords": [
           {
            "line": {
             "colorbar": {
              "outlinewidth": 0,
              "ticks": ""
             }
            },
            "type": "parcoords"
           }
          ],
          "pie": [
           {
            "automargin": true,
            "type": "pie"
           }
          ],
          "scatter": [
           {
            "fillpattern": {
             "fillmode": "overlay",
             "size": 10,
             "solidity": 0.2
            },
            "type": "scatter"
           }
          ],
          "scatter3d": [
           {
            "line": {
             "colorbar": {
              "outlinewidth": 0,
              "ticks": ""
             }
            },
            "marker": {
             "colorbar": {
              "outlinewidth": 0,
              "ticks": ""
             }
            },
            "type": "scatter3d"
           }
          ],
          "scattercarpet": [
           {
            "marker": {
             "colorbar": {
              "outlinewidth": 0,
              "ticks": ""
             }
            },
            "type": "scattercarpet"
           }
          ],
          "scattergeo": [
           {
            "marker": {
             "colorbar": {
              "outlinewidth": 0,
              "ticks": ""
             }
            },
            "type": "scattergeo"
           }
          ],
          "scattergl": [
           {
            "marker": {
             "colorbar": {
              "outlinewidth": 0,
              "ticks": ""
             }
            },
            "type": "scattergl"
           }
          ],
          "scattermapbox": [
           {
            "marker": {
             "colorbar": {
              "outlinewidth": 0,
              "ticks": ""
             }
            },
            "type": "scattermapbox"
           }
          ],
          "scatterpolar": [
           {
            "marker": {
             "colorbar": {
              "outlinewidth": 0,
              "ticks": ""
             }
            },
            "type": "scatterpolar"
           }
          ],
          "scatterpolargl": [
           {
            "marker": {
             "colorbar": {
              "outlinewidth": 0,
              "ticks": ""
             }
            },
            "type": "scatterpolargl"
           }
          ],
          "scatterternary": [
           {
            "marker": {
             "colorbar": {
              "outlinewidth": 0,
              "ticks": ""
             }
            },
            "type": "scatterternary"
           }
          ],
          "surface": [
           {
            "colorbar": {
             "outlinewidth": 0,
             "ticks": ""
            },
            "colorscale": [
             [
              0,
              "#0d0887"
             ],
             [
              0.1111111111111111,
              "#46039f"
             ],
             [
              0.2222222222222222,
              "#7201a8"
             ],
             [
              0.3333333333333333,
              "#9c179e"
             ],
             [
              0.4444444444444444,
              "#bd3786"
             ],
             [
              0.5555555555555556,
              "#d8576b"
             ],
             [
              0.6666666666666666,
              "#ed7953"
             ],
             [
              0.7777777777777778,
              "#fb9f3a"
             ],
             [
              0.8888888888888888,
              "#fdca26"
             ],
             [
              1,
              "#f0f921"
             ]
            ],
            "type": "surface"
           }
          ],
          "table": [
           {
            "cells": {
             "fill": {
              "color": "#EBF0F8"
             },
             "line": {
              "color": "white"
             }
            },
            "header": {
             "fill": {
              "color": "#C8D4E3"
             },
             "line": {
              "color": "white"
             }
            },
            "type": "table"
           }
          ]
         },
         "layout": {
          "annotationdefaults": {
           "arrowcolor": "#2a3f5f",
           "arrowhead": 0,
           "arrowwidth": 1
          },
          "autotypenumbers": "strict",
          "coloraxis": {
           "colorbar": {
            "outlinewidth": 0,
            "ticks": ""
           }
          },
          "colorscale": {
           "diverging": [
            [
             0,
             "#8e0152"
            ],
            [
             0.1,
             "#c51b7d"
            ],
            [
             0.2,
             "#de77ae"
            ],
            [
             0.3,
             "#f1b6da"
            ],
            [
             0.4,
             "#fde0ef"
            ],
            [
             0.5,
             "#f7f7f7"
            ],
            [
             0.6,
             "#e6f5d0"
            ],
            [
             0.7,
             "#b8e186"
            ],
            [
             0.8,
             "#7fbc41"
            ],
            [
             0.9,
             "#4d9221"
            ],
            [
             1,
             "#276419"
            ]
           ],
           "sequential": [
            [
             0,
             "#0d0887"
            ],
            [
             0.1111111111111111,
             "#46039f"
            ],
            [
             0.2222222222222222,
             "#7201a8"
            ],
            [
             0.3333333333333333,
             "#9c179e"
            ],
            [
             0.4444444444444444,
             "#bd3786"
            ],
            [
             0.5555555555555556,
             "#d8576b"
            ],
            [
             0.6666666666666666,
             "#ed7953"
            ],
            [
             0.7777777777777778,
             "#fb9f3a"
            ],
            [
             0.8888888888888888,
             "#fdca26"
            ],
            [
             1,
             "#f0f921"
            ]
           ],
           "sequentialminus": [
            [
             0,
             "#0d0887"
            ],
            [
             0.1111111111111111,
             "#46039f"
            ],
            [
             0.2222222222222222,
             "#7201a8"
            ],
            [
             0.3333333333333333,
             "#9c179e"
            ],
            [
             0.4444444444444444,
             "#bd3786"
            ],
            [
             0.5555555555555556,
             "#d8576b"
            ],
            [
             0.6666666666666666,
             "#ed7953"
            ],
            [
             0.7777777777777778,
             "#fb9f3a"
            ],
            [
             0.8888888888888888,
             "#fdca26"
            ],
            [
             1,
             "#f0f921"
            ]
           ]
          },
          "colorway": [
           "#636efa",
           "#EF553B",
           "#00cc96",
           "#ab63fa",
           "#FFA15A",
           "#19d3f3",
           "#FF6692",
           "#B6E880",
           "#FF97FF",
           "#FECB52"
          ],
          "font": {
           "color": "#2a3f5f"
          },
          "geo": {
           "bgcolor": "white",
           "lakecolor": "white",
           "landcolor": "#E5ECF6",
           "showlakes": true,
           "showland": true,
           "subunitcolor": "white"
          },
          "hoverlabel": {
           "align": "left"
          },
          "hovermode": "closest",
          "mapbox": {
           "style": "light"
          },
          "paper_bgcolor": "white",
          "plot_bgcolor": "#E5ECF6",
          "polar": {
           "angularaxis": {
            "gridcolor": "white",
            "linecolor": "white",
            "ticks": ""
           },
           "bgcolor": "#E5ECF6",
           "radialaxis": {
            "gridcolor": "white",
            "linecolor": "white",
            "ticks": ""
           }
          },
          "scene": {
           "xaxis": {
            "backgroundcolor": "#E5ECF6",
            "gridcolor": "white",
            "gridwidth": 2,
            "linecolor": "white",
            "showbackground": true,
            "ticks": "",
            "zerolinecolor": "white"
           },
           "yaxis": {
            "backgroundcolor": "#E5ECF6",
            "gridcolor": "white",
            "gridwidth": 2,
            "linecolor": "white",
            "showbackground": true,
            "ticks": "",
            "zerolinecolor": "white"
           },
           "zaxis": {
            "backgroundcolor": "#E5ECF6",
            "gridcolor": "white",
            "gridwidth": 2,
            "linecolor": "white",
            "showbackground": true,
            "ticks": "",
            "zerolinecolor": "white"
           }
          },
          "shapedefaults": {
           "line": {
            "color": "#2a3f5f"
           }
          },
          "ternary": {
           "aaxis": {
            "gridcolor": "white",
            "linecolor": "white",
            "ticks": ""
           },
           "baxis": {
            "gridcolor": "white",
            "linecolor": "white",
            "ticks": ""
           },
           "bgcolor": "#E5ECF6",
           "caxis": {
            "gridcolor": "white",
            "linecolor": "white",
            "ticks": ""
           }
          },
          "title": {
           "x": 0.05
          },
          "xaxis": {
           "automargin": true,
           "gridcolor": "white",
           "linecolor": "white",
           "ticks": "",
           "title": {
            "standoff": 15
           },
           "zerolinecolor": "white",
           "zerolinewidth": 2
          },
          "yaxis": {
           "automargin": true,
           "gridcolor": "white",
           "linecolor": "white",
           "ticks": "",
           "title": {
            "standoff": 15
           },
           "zerolinecolor": "white",
           "zerolinewidth": 2
          }
         }
        },
        "title": {
         "text": "Consumo Energético Promedio por Día de la Semana"
        },
        "xaxis": {
         "anchor": "y",
         "domain": [
          0,
          1
         ],
         "title": {
          "text": "Day_of_week"
         }
        },
        "yaxis": {
         "anchor": "x",
         "domain": [
          0,
          1
         ],
         "title": {
          "text": "avg"
         }
        }
       }
      }
     },
     "metadata": {},
     "output_type": "display_data"
    }
   ],
   "source": [
    "# Visualizar\n",
    "fig = px.line(\n",
    "    df_day.to_pandas(),\n",
    "    x='Day_of_week',\n",
    "    y='avg',\n",
    "    title='Consumo Energético Promedio por Día de la Semana',\n",
    "    markers=True\n",
    ")\n",
    "fig.show()"
   ]
  },
  {
   "cell_type": "code",
   "execution_count": 9,
   "metadata": {},
   "outputs": [
    {
     "name": "stderr",
     "output_type": "stream",
     "text": [
      "INFO:src.data.load_to_duckdb:✅ Connected to DuckDB: ../../data/steel.duckdb\n",
      "INFO:src.data.load_to_duckdb:✅ Query executed: 25 rows returned\n"
     ]
    },
    {
     "data": {
      "text/html": [
       "<div><style>\n",
       ".dataframe > thead > tr,\n",
       ".dataframe > tbody > tr {\n",
       "  text-align: right;\n",
       "  white-space: pre-wrap;\n",
       "}\n",
       "</style>\n",
       "<small>shape: (24, 4)</small><table border=\"1\" class=\"dataframe\"><thead><tr><th>hour</th><th>records</th><th>avg_Usage_kWh</th><th>std_Usage_kWh</th></tr><tr><td>f64</td><td>i64</td><td>f64</td><td>f64</td></tr></thead><tbody><tr><td>0.0</td><td>1444</td><td>8.98</td><td>20.33</td></tr><tr><td>1.0</td><td>1449</td><td>8.0</td><td>20.3</td></tr><tr><td>2.0</td><td>1451</td><td>5.78</td><td>14.92</td></tr><tr><td>3.0</td><td>1449</td><td>5.53</td><td>14.26</td></tr><tr><td>4.0</td><td>1456</td><td>6.1</td><td>16.72</td></tr><tr><td>&hellip;</td><td>&hellip;</td><td>&hellip;</td><td>&hellip;</td></tr><tr><td>19.0</td><td>1454</td><td>39.49</td><td>35.99</td></tr><tr><td>20.0</td><td>1443</td><td>38.18</td><td>35.81</td></tr><tr><td>21.0</td><td>1453</td><td>15.49</td><td>25.01</td></tr><tr><td>22.0</td><td>1457</td><td>10.72</td><td>23.18</td></tr><tr><td>23.0</td><td>1449</td><td>9.22</td><td>20.52</td></tr></tbody></table></div>"
      ],
      "text/plain": [
       "shape: (24, 4)\n",
       "┌──────┬─────────┬───────────────┬───────────────┐\n",
       "│ hour ┆ records ┆ avg_Usage_kWh ┆ std_Usage_kWh │\n",
       "│ ---  ┆ ---     ┆ ---           ┆ ---           │\n",
       "│ f64  ┆ i64     ┆ f64           ┆ f64           │\n",
       "╞══════╪═════════╪═══════════════╪═══════════════╡\n",
       "│ 0.0  ┆ 1444    ┆ 8.98          ┆ 20.33         │\n",
       "│ 1.0  ┆ 1449    ┆ 8.0           ┆ 20.3          │\n",
       "│ 2.0  ┆ 1451    ┆ 5.78          ┆ 14.92         │\n",
       "│ 3.0  ┆ 1449    ┆ 5.53          ┆ 14.26         │\n",
       "│ 4.0  ┆ 1456    ┆ 6.1           ┆ 16.72         │\n",
       "│ …    ┆ …       ┆ …             ┆ …             │\n",
       "│ 19.0 ┆ 1454    ┆ 39.49         ┆ 35.99         │\n",
       "│ 20.0 ┆ 1443    ┆ 38.18         ┆ 35.81         │\n",
       "│ 21.0 ┆ 1453    ┆ 15.49         ┆ 25.01         │\n",
       "│ 22.0 ┆ 1457    ┆ 10.72         ┆ 23.18         │\n",
       "│ 23.0 ┆ 1449    ┆ 9.22          ┆ 20.52         │\n",
       "└──────┴─────────┴───────────────┴───────────────┘"
      ]
     },
     "execution_count": 9,
     "metadata": {},
     "output_type": "execute_result"
    }
   ],
   "source": [
    "# Query 4: Análisis por Hora usando función reutilizable\n",
    "df_hour = get_temporal_stats(\n",
    "    table_name='steel_cleaned',\n",
    "    time_column='NSM',\n",
    "    agg_column='Usage_kWh',\n",
    "    time_unit='hour',\n",
    "    db_path=\"../../data/steel.duckdb\"\n",
    ")\n",
    "\n",
    "df_hour.head(24)"
   ]
  },
  {
   "cell_type": "code",
   "execution_count": 10,
   "metadata": {},
   "outputs": [
    {
     "data": {
      "application/vnd.plotly.v1+json": {
       "config": {
        "plotlyServerURL": "https://plot.ly"
       },
       "data": [
        {
         "hovertemplate": "hour=%{x}<br>avg_Usage_kWh=%{y}<extra></extra>",
         "legendgroup": "",
         "line": {
          "color": "#636efa",
          "dash": "solid"
         },
         "marker": {
          "symbol": "circle"
         },
         "mode": "lines+markers",
         "name": "",
         "orientation": "v",
         "showlegend": false,
         "type": "scatter",
         "x": [
          0,
          1,
          2,
          3,
          4,
          5,
          6,
          7,
          8,
          9,
          10,
          11,
          12,
          13,
          14,
          15,
          16,
          17,
          18,
          19,
          20,
          21,
          22,
          23,
          24
         ],
         "xaxis": "x",
         "y": [
          8.98,
          8,
          5.78,
          5.53,
          6.1,
          5.57,
          5.8,
          5.6,
          38.97,
          59.59,
          56.98,
          57.81,
          19.64,
          40.74,
          56.81,
          56.63,
          57.03,
          45.33,
          34.46,
          39.49,
          38.18,
          15.49,
          10.72,
          9.22,
          30.88
         ],
         "yaxis": "y"
        }
       ],
       "layout": {
        "legend": {
         "tracegroupgap": 0
        },
        "template": {
         "data": {
          "bar": [
           {
            "error_x": {
             "color": "#2a3f5f"
            },
            "error_y": {
             "color": "#2a3f5f"
            },
            "marker": {
             "line": {
              "color": "#E5ECF6",
              "width": 0.5
             },
             "pattern": {
              "fillmode": "overlay",
              "size": 10,
              "solidity": 0.2
             }
            },
            "type": "bar"
           }
          ],
          "barpolar": [
           {
            "marker": {
             "line": {
              "color": "#E5ECF6",
              "width": 0.5
             },
             "pattern": {
              "fillmode": "overlay",
              "size": 10,
              "solidity": 0.2
             }
            },
            "type": "barpolar"
           }
          ],
          "carpet": [
           {
            "aaxis": {
             "endlinecolor": "#2a3f5f",
             "gridcolor": "white",
             "linecolor": "white",
             "minorgridcolor": "white",
             "startlinecolor": "#2a3f5f"
            },
            "baxis": {
             "endlinecolor": "#2a3f5f",
             "gridcolor": "white",
             "linecolor": "white",
             "minorgridcolor": "white",
             "startlinecolor": "#2a3f5f"
            },
            "type": "carpet"
           }
          ],
          "choropleth": [
           {
            "colorbar": {
             "outlinewidth": 0,
             "ticks": ""
            },
            "type": "choropleth"
           }
          ],
          "contour": [
           {
            "colorbar": {
             "outlinewidth": 0,
             "ticks": ""
            },
            "colorscale": [
             [
              0,
              "#0d0887"
             ],
             [
              0.1111111111111111,
              "#46039f"
             ],
             [
              0.2222222222222222,
              "#7201a8"
             ],
             [
              0.3333333333333333,
              "#9c179e"
             ],
             [
              0.4444444444444444,
              "#bd3786"
             ],
             [
              0.5555555555555556,
              "#d8576b"
             ],
             [
              0.6666666666666666,
              "#ed7953"
             ],
             [
              0.7777777777777778,
              "#fb9f3a"
             ],
             [
              0.8888888888888888,
              "#fdca26"
             ],
             [
              1,
              "#f0f921"
             ]
            ],
            "type": "contour"
           }
          ],
          "contourcarpet": [
           {
            "colorbar": {
             "outlinewidth": 0,
             "ticks": ""
            },
            "type": "contourcarpet"
           }
          ],
          "heatmap": [
           {
            "colorbar": {
             "outlinewidth": 0,
             "ticks": ""
            },
            "colorscale": [
             [
              0,
              "#0d0887"
             ],
             [
              0.1111111111111111,
              "#46039f"
             ],
             [
              0.2222222222222222,
              "#7201a8"
             ],
             [
              0.3333333333333333,
              "#9c179e"
             ],
             [
              0.4444444444444444,
              "#bd3786"
             ],
             [
              0.5555555555555556,
              "#d8576b"
             ],
             [
              0.6666666666666666,
              "#ed7953"
             ],
             [
              0.7777777777777778,
              "#fb9f3a"
             ],
             [
              0.8888888888888888,
              "#fdca26"
             ],
             [
              1,
              "#f0f921"
             ]
            ],
            "type": "heatmap"
           }
          ],
          "heatmapgl": [
           {
            "colorbar": {
             "outlinewidth": 0,
             "ticks": ""
            },
            "colorscale": [
             [
              0,
              "#0d0887"
             ],
             [
              0.1111111111111111,
              "#46039f"
             ],
             [
              0.2222222222222222,
              "#7201a8"
             ],
             [
              0.3333333333333333,
              "#9c179e"
             ],
             [
              0.4444444444444444,
              "#bd3786"
             ],
             [
              0.5555555555555556,
              "#d8576b"
             ],
             [
              0.6666666666666666,
              "#ed7953"
             ],
             [
              0.7777777777777778,
              "#fb9f3a"
             ],
             [
              0.8888888888888888,
              "#fdca26"
             ],
             [
              1,
              "#f0f921"
             ]
            ],
            "type": "heatmapgl"
           }
          ],
          "histogram": [
           {
            "marker": {
             "pattern": {
              "fillmode": "overlay",
              "size": 10,
              "solidity": 0.2
             }
            },
            "type": "histogram"
           }
          ],
          "histogram2d": [
           {
            "colorbar": {
             "outlinewidth": 0,
             "ticks": ""
            },
            "colorscale": [
             [
              0,
              "#0d0887"
             ],
             [
              0.1111111111111111,
              "#46039f"
             ],
             [
              0.2222222222222222,
              "#7201a8"
             ],
             [
              0.3333333333333333,
              "#9c179e"
             ],
             [
              0.4444444444444444,
              "#bd3786"
             ],
             [
              0.5555555555555556,
              "#d8576b"
             ],
             [
              0.6666666666666666,
              "#ed7953"
             ],
             [
              0.7777777777777778,
              "#fb9f3a"
             ],
             [
              0.8888888888888888,
              "#fdca26"
             ],
             [
              1,
              "#f0f921"
             ]
            ],
            "type": "histogram2d"
           }
          ],
          "histogram2dcontour": [
           {
            "colorbar": {
             "outlinewidth": 0,
             "ticks": ""
            },
            "colorscale": [
             [
              0,
              "#0d0887"
             ],
             [
              0.1111111111111111,
              "#46039f"
             ],
             [
              0.2222222222222222,
              "#7201a8"
             ],
             [
              0.3333333333333333,
              "#9c179e"
             ],
             [
              0.4444444444444444,
              "#bd3786"
             ],
             [
              0.5555555555555556,
              "#d8576b"
             ],
             [
              0.6666666666666666,
              "#ed7953"
             ],
             [
              0.7777777777777778,
              "#fb9f3a"
             ],
             [
              0.8888888888888888,
              "#fdca26"
             ],
             [
              1,
              "#f0f921"
             ]
            ],
            "type": "histogram2dcontour"
           }
          ],
          "mesh3d": [
           {
            "colorbar": {
             "outlinewidth": 0,
             "ticks": ""
            },
            "type": "mesh3d"
           }
          ],
          "parcoords": [
           {
            "line": {
             "colorbar": {
              "outlinewidth": 0,
              "ticks": ""
             }
            },
            "type": "parcoords"
           }
          ],
          "pie": [
           {
            "automargin": true,
            "type": "pie"
           }
          ],
          "scatter": [
           {
            "fillpattern": {
             "fillmode": "overlay",
             "size": 10,
             "solidity": 0.2
            },
            "type": "scatter"
           }
          ],
          "scatter3d": [
           {
            "line": {
             "colorbar": {
              "outlinewidth": 0,
              "ticks": ""
             }
            },
            "marker": {
             "colorbar": {
              "outlinewidth": 0,
              "ticks": ""
             }
            },
            "type": "scatter3d"
           }
          ],
          "scattercarpet": [
           {
            "marker": {
             "colorbar": {
              "outlinewidth": 0,
              "ticks": ""
             }
            },
            "type": "scattercarpet"
           }
          ],
          "scattergeo": [
           {
            "marker": {
             "colorbar": {
              "outlinewidth": 0,
              "ticks": ""
             }
            },
            "type": "scattergeo"
           }
          ],
          "scattergl": [
           {
            "marker": {
             "colorbar": {
              "outlinewidth": 0,
              "ticks": ""
             }
            },
            "type": "scattergl"
           }
          ],
          "scattermapbox": [
           {
            "marker": {
             "colorbar": {
              "outlinewidth": 0,
              "ticks": ""
             }
            },
            "type": "scattermapbox"
           }
          ],
          "scatterpolar": [
           {
            "marker": {
             "colorbar": {
              "outlinewidth": 0,
              "ticks": ""
             }
            },
            "type": "scatterpolar"
           }
          ],
          "scatterpolargl": [
           {
            "marker": {
             "colorbar": {
              "outlinewidth": 0,
              "ticks": ""
             }
            },
            "type": "scatterpolargl"
           }
          ],
          "scatterternary": [
           {
            "marker": {
             "colorbar": {
              "outlinewidth": 0,
              "ticks": ""
             }
            },
            "type": "scatterternary"
           }
          ],
          "surface": [
           {
            "colorbar": {
             "outlinewidth": 0,
             "ticks": ""
            },
            "colorscale": [
             [
              0,
              "#0d0887"
             ],
             [
              0.1111111111111111,
              "#46039f"
             ],
             [
              0.2222222222222222,
              "#7201a8"
             ],
             [
              0.3333333333333333,
              "#9c179e"
             ],
             [
              0.4444444444444444,
              "#bd3786"
             ],
             [
              0.5555555555555556,
              "#d8576b"
             ],
             [
              0.6666666666666666,
              "#ed7953"
             ],
             [
              0.7777777777777778,
              "#fb9f3a"
             ],
             [
              0.8888888888888888,
              "#fdca26"
             ],
             [
              1,
              "#f0f921"
             ]
            ],
            "type": "surface"
           }
          ],
          "table": [
           {
            "cells": {
             "fill": {
              "color": "#EBF0F8"
             },
             "line": {
              "color": "white"
             }
            },
            "header": {
             "fill": {
              "color": "#C8D4E3"
             },
             "line": {
              "color": "white"
             }
            },
            "type": "table"
           }
          ]
         },
         "layout": {
          "annotationdefaults": {
           "arrowcolor": "#2a3f5f",
           "arrowhead": 0,
           "arrowwidth": 1
          },
          "autotypenumbers": "strict",
          "coloraxis": {
           "colorbar": {
            "outlinewidth": 0,
            "ticks": ""
           }
          },
          "colorscale": {
           "diverging": [
            [
             0,
             "#8e0152"
            ],
            [
             0.1,
             "#c51b7d"
            ],
            [
             0.2,
             "#de77ae"
            ],
            [
             0.3,
             "#f1b6da"
            ],
            [
             0.4,
             "#fde0ef"
            ],
            [
             0.5,
             "#f7f7f7"
            ],
            [
             0.6,
             "#e6f5d0"
            ],
            [
             0.7,
             "#b8e186"
            ],
            [
             0.8,
             "#7fbc41"
            ],
            [
             0.9,
             "#4d9221"
            ],
            [
             1,
             "#276419"
            ]
           ],
           "sequential": [
            [
             0,
             "#0d0887"
            ],
            [
             0.1111111111111111,
             "#46039f"
            ],
            [
             0.2222222222222222,
             "#7201a8"
            ],
            [
             0.3333333333333333,
             "#9c179e"
            ],
            [
             0.4444444444444444,
             "#bd3786"
            ],
            [
             0.5555555555555556,
             "#d8576b"
            ],
            [
             0.6666666666666666,
             "#ed7953"
            ],
            [
             0.7777777777777778,
             "#fb9f3a"
            ],
            [
             0.8888888888888888,
             "#fdca26"
            ],
            [
             1,
             "#f0f921"
            ]
           ],
           "sequentialminus": [
            [
             0,
             "#0d0887"
            ],
            [
             0.1111111111111111,
             "#46039f"
            ],
            [
             0.2222222222222222,
             "#7201a8"
            ],
            [
             0.3333333333333333,
             "#9c179e"
            ],
            [
             0.4444444444444444,
             "#bd3786"
            ],
            [
             0.5555555555555556,
             "#d8576b"
            ],
            [
             0.6666666666666666,
             "#ed7953"
            ],
            [
             0.7777777777777778,
             "#fb9f3a"
            ],
            [
             0.8888888888888888,
             "#fdca26"
            ],
            [
             1,
             "#f0f921"
            ]
           ]
          },
          "colorway": [
           "#636efa",
           "#EF553B",
           "#00cc96",
           "#ab63fa",
           "#FFA15A",
           "#19d3f3",
           "#FF6692",
           "#B6E880",
           "#FF97FF",
           "#FECB52"
          ],
          "font": {
           "color": "#2a3f5f"
          },
          "geo": {
           "bgcolor": "white",
           "lakecolor": "white",
           "landcolor": "#E5ECF6",
           "showlakes": true,
           "showland": true,
           "subunitcolor": "white"
          },
          "hoverlabel": {
           "align": "left"
          },
          "hovermode": "closest",
          "mapbox": {
           "style": "light"
          },
          "paper_bgcolor": "white",
          "plot_bgcolor": "#E5ECF6",
          "polar": {
           "angularaxis": {
            "gridcolor": "white",
            "linecolor": "white",
            "ticks": ""
           },
           "bgcolor": "#E5ECF6",
           "radialaxis": {
            "gridcolor": "white",
            "linecolor": "white",
            "ticks": ""
           }
          },
          "scene": {
           "xaxis": {
            "backgroundcolor": "#E5ECF6",
            "gridcolor": "white",
            "gridwidth": 2,
            "linecolor": "white",
            "showbackground": true,
            "ticks": "",
            "zerolinecolor": "white"
           },
           "yaxis": {
            "backgroundcolor": "#E5ECF6",
            "gridcolor": "white",
            "gridwidth": 2,
            "linecolor": "white",
            "showbackground": true,
            "ticks": "",
            "zerolinecolor": "white"
           },
           "zaxis": {
            "backgroundcolor": "#E5ECF6",
            "gridcolor": "white",
            "gridwidth": 2,
            "linecolor": "white",
            "showbackground": true,
            "ticks": "",
            "zerolinecolor": "white"
           }
          },
          "shapedefaults": {
           "line": {
            "color": "#2a3f5f"
           }
          },
          "ternary": {
           "aaxis": {
            "gridcolor": "white",
            "linecolor": "white",
            "ticks": ""
           },
           "baxis": {
            "gridcolor": "white",
            "linecolor": "white",
            "ticks": ""
           },
           "bgcolor": "#E5ECF6",
           "caxis": {
            "gridcolor": "white",
            "linecolor": "white",
            "ticks": ""
           }
          },
          "title": {
           "x": 0.05
          },
          "xaxis": {
           "automargin": true,
           "gridcolor": "white",
           "linecolor": "white",
           "ticks": "",
           "title": {
            "standoff": 15
           },
           "zerolinecolor": "white",
           "zerolinewidth": 2
          },
          "yaxis": {
           "automargin": true,
           "gridcolor": "white",
           "linecolor": "white",
           "ticks": "",
           "title": {
            "standoff": 15
           },
           "zerolinecolor": "white",
           "zerolinewidth": 2
          }
         }
        },
        "title": {
         "text": "Consumo Energético Promedio por Hora del Día"
        },
        "xaxis": {
         "anchor": "y",
         "domain": [
          0,
          1
         ],
         "title": {
          "text": "Hora del Día (0-23)"
         }
        },
        "yaxis": {
         "anchor": "x",
         "domain": [
          0,
          1
         ],
         "title": {
          "text": "Uso Promedio (kWh)"
         }
        }
       }
      }
     },
     "metadata": {},
     "output_type": "display_data"
    }
   ],
   "source": [
    "# Visualizar patrón horario\n",
    "fig = px.line(\n",
    "    df_hour.to_pandas(),\n",
    "    x='hour',\n",
    "    y='avg_Usage_kWh',\n",
    "    title='Consumo Energético Promedio por Hora del Día',\n",
    "    markers=True\n",
    ")\n",
    "fig.update_xaxes(title='Hora del Día (0-23)')\n",
    "fig.update_yaxes(title='Uso Promedio (kWh)')\n",
    "fig.show()"
   ]
  },
  {
   "cell_type": "markdown",
   "metadata": {},
   "source": [
    "## 5. Queries Avanzados\n",
    "\n",
    "Usando funciones especializadas para análisis más complejos."
   ]
  },
  {
   "cell_type": "code",
   "execution_count": 11,
   "metadata": {},
   "outputs": [
    {
     "name": "stderr",
     "output_type": "stream",
     "text": [
      "INFO:src.data.load_to_duckdb:✅ Connected to DuckDB: ../../data/steel.duckdb\n",
      "INFO:src.data.load_to_duckdb:✅ Query executed: 10 rows returned\n"
     ]
    },
    {
     "data": {
      "text/html": [
       "<div><style>\n",
       ".dataframe > thead > tr,\n",
       ".dataframe > tbody > tr {\n",
       "  text-align: right;\n",
       "  white-space: pre-wrap;\n",
       "}\n",
       "</style>\n",
       "<small>shape: (10, 5)</small><table border=\"1\" class=\"dataframe\"><thead><tr><th>Usage_kWh</th><th>Load_Type</th><th>Day_of_week</th><th>NSM</th><th>CO2(tCO2)</th></tr><tr><td>f64</td><td>str</td><td>str</td><td>i64</td><td>f64</td></tr></thead><tbody><tr><td>149.65</td><td>&quot;Medium_Load&quot;</td><td>&quot;Tuesday&quot;</td><td>52200</td><td>0.0</td></tr><tr><td>149.65</td><td>&quot;Light_Load&quot;</td><td>&quot;Wednesday&quot;</td><td>22500</td><td>0.0</td></tr><tr><td>149.65</td><td>&quot;Medium_Load&quot;</td><td>&quot;Wednesday&quot;</td><td>48600</td><td>0.02</td></tr><tr><td>149.65</td><td>&quot;Medium_Load&quot;</td><td>&quot;Friday&quot;</td><td>49500</td><td>0.05</td></tr><tr><td>149.65</td><td>&quot;Light_Load&quot;</td><td>&quot;Saturday&quot;</td><td>56700</td><td>0.0</td></tr><tr><td>149.65</td><td>&quot;Light_Load&quot;</td><td>&quot;Saturday&quot;</td><td>63000</td><td>0.0</td></tr><tr><td>149.65</td><td>&quot;Maximum_Load&quot;</td><td>&quot;Tuesday&quot;</td><td>65700</td><td>0.04</td></tr><tr><td>149.65</td><td>&quot;Light_Load&quot;</td><td>&quot;Friday&quot;</td><td>22500</td><td>0.0</td></tr><tr><td>149.65</td><td>&quot;Medium_Load&quot;</td><td>&quot;Friday&quot;</td><td>36000</td><td>0.05</td></tr><tr><td>149.65</td><td>&quot;Medium_Load&quot;</td><td>&quot;Sunday&quot;</td><td>61200</td><td>0.0</td></tr></tbody></table></div>"
      ],
      "text/plain": [
       "shape: (10, 5)\n",
       "┌───────────┬──────────────┬─────────────┬───────┬───────────┐\n",
       "│ Usage_kWh ┆ Load_Type    ┆ Day_of_week ┆ NSM   ┆ CO2(tCO2) │\n",
       "│ ---       ┆ ---          ┆ ---         ┆ ---   ┆ ---       │\n",
       "│ f64       ┆ str          ┆ str         ┆ i64   ┆ f64       │\n",
       "╞═══════════╪══════════════╪═════════════╪═══════╪═══════════╡\n",
       "│ 149.65    ┆ Medium_Load  ┆ Tuesday     ┆ 52200 ┆ 0.0       │\n",
       "│ 149.65    ┆ Light_Load   ┆ Wednesday   ┆ 22500 ┆ 0.0       │\n",
       "│ 149.65    ┆ Medium_Load  ┆ Wednesday   ┆ 48600 ┆ 0.02      │\n",
       "│ 149.65    ┆ Medium_Load  ┆ Friday      ┆ 49500 ┆ 0.05      │\n",
       "│ 149.65    ┆ Light_Load   ┆ Saturday    ┆ 56700 ┆ 0.0       │\n",
       "│ 149.65    ┆ Light_Load   ┆ Saturday    ┆ 63000 ┆ 0.0       │\n",
       "│ 149.65    ┆ Maximum_Load ┆ Tuesday     ┆ 65700 ┆ 0.04      │\n",
       "│ 149.65    ┆ Light_Load   ┆ Friday      ┆ 22500 ┆ 0.0       │\n",
       "│ 149.65    ┆ Medium_Load  ┆ Friday      ┆ 36000 ┆ 0.05      │\n",
       "│ 149.65    ┆ Medium_Load  ┆ Sunday      ┆ 61200 ┆ 0.0       │\n",
       "└───────────┴──────────────┴─────────────┴───────┴───────────┘"
      ]
     },
     "execution_count": 11,
     "metadata": {},
     "output_type": "execute_result"
    }
   ],
   "source": [
    "# Query 5: Top 10 Picos de Consumo usando función reutilizable\n",
    "df_peaks = get_top_n(\n",
    "    table_name='steel_cleaned',\n",
    "    order_by_column='Usage_kWh',\n",
    "    n=10,\n",
    "    columns=['Usage_kWh', 'Load_Type', 'Day_of_week', 'NSM', 'CO2(tCO2)'],\n",
    "    db_path=\"../../data/steel.duckdb\"\n",
    ")\n",
    "\n",
    "df_peaks"
   ]
  },
  {
   "cell_type": "code",
   "execution_count": 12,
   "metadata": {},
   "outputs": [
    {
     "name": "stderr",
     "output_type": "stream",
     "text": [
      "INFO:src.data.load_to_duckdb:✅ Connected to DuckDB: ../../data/steel.duckdb\n",
      "INFO:src.data.load_to_duckdb:✅ Query executed: 1 rows returned\n",
      "INFO:src.data.load_to_duckdb:✅ Connected to DuckDB: ../../data/steel.duckdb\n",
      "INFO:src.data.load_to_duckdb:✅ Query executed: 1 rows returned\n",
      "INFO:src.data.load_to_duckdb:✅ Connected to DuckDB: ../../data/steel.duckdb\n",
      "INFO:src.data.load_to_duckdb:✅ Query executed: 1 rows returned\n"
     ]
    },
    {
     "name": "stdout",
     "output_type": "stream",
     "text": [
      "Correlaciones con Usage_kWh:\n",
      "  CO2: 0.8941\n",
      "  Lagging Power Factor: 0.3577\n",
      "  Leading Power Factor: 0.3282\n"
     ]
    }
   ],
   "source": [
    "# Query 6: Análisis de Correlación usando función reutilizable\n",
    "print(\"Correlaciones con Usage_kWh:\")\n",
    "print(f\"  CO2: {get_correlation('steel_cleaned', 'Usage_kWh', 'CO2(tCO2)', '../../data/steel.duckdb'):.4f}\")\n",
    "print(f\"  Lagging Power Factor: {get_correlation('steel_cleaned', 'Usage_kWh', 'Lagging_Current_Power_Factor', '../../data/steel.duckdb'):.4f}\")\n",
    "print(f\"  Leading Power Factor: {get_correlation('steel_cleaned', 'Usage_kWh', 'Leading_Current_Power_Factor', '../../data/steel.duckdb'):.4f}\")"
   ]
  },
  {
   "cell_type": "code",
   "execution_count": 13,
   "metadata": {},
   "outputs": [
    {
     "name": "stderr",
     "output_type": "stream",
     "text": [
      "INFO:src.data.load_to_duckdb:✅ Connected to DuckDB: ../../data/steel.duckdb\n",
      "INFO:src.data.load_to_duckdb:✅ Query executed: 3 rows returned\n"
     ]
    },
    {
     "data": {
      "text/html": [
       "<div><style>\n",
       ".dataframe > thead > tr,\n",
       ".dataframe > tbody > tr {\n",
       "  text-align: right;\n",
       "  white-space: pre-wrap;\n",
       "}\n",
       "</style>\n",
       "<small>shape: (3, 6)</small><table border=\"1\" class=\"dataframe\"><thead><tr><th>WeekStatus</th><th>records</th><th>avg</th><th>std</th><th>min</th><th>max</th></tr><tr><td>str</td><td>i64</td><td>f64</td><td>f64</td><td>f64</td><td>f64</td></tr></thead><tbody><tr><td>&quot;Nan&quot;</td><td>22</td><td>32.08</td><td>38.34</td><td>2.74</td><td>134.89</td></tr><tr><td>&quot;Weekday&quot;</td><td>25069</td><td>34.84</td><td>37.43</td><td>2.59</td><td>149.65</td></tr><tr><td>&quot;Weekend&quot;</td><td>9842</td><td>13.03</td><td>23.67</td><td>2.59</td><td>149.65</td></tr></tbody></table></div>"
      ],
      "text/plain": [
       "shape: (3, 6)\n",
       "┌────────────┬─────────┬───────┬───────┬──────┬────────┐\n",
       "│ WeekStatus ┆ records ┆ avg   ┆ std   ┆ min  ┆ max    │\n",
       "│ ---        ┆ ---     ┆ ---   ┆ ---   ┆ ---  ┆ ---    │\n",
       "│ str        ┆ i64     ┆ f64   ┆ f64   ┆ f64  ┆ f64    │\n",
       "╞════════════╪═════════╪═══════╪═══════╪══════╪════════╡\n",
       "│ Nan        ┆ 22      ┆ 32.08 ┆ 38.34 ┆ 2.74 ┆ 134.89 │\n",
       "│ Weekday    ┆ 25069   ┆ 34.84 ┆ 37.43 ┆ 2.59 ┆ 149.65 │\n",
       "│ Weekend    ┆ 9842    ┆ 13.03 ┆ 23.67 ┆ 2.59 ┆ 149.65 │\n",
       "└────────────┴─────────┴───────┴───────┴──────┴────────┘"
      ]
     },
     "execution_count": 13,
     "metadata": {},
     "output_type": "execute_result"
    }
   ],
   "source": [
    "# Query 7: Análisis Fin de Semana vs Días Laborales usando función reutilizable\n",
    "df_weekend = get_weekend_vs_weekday_stats(\n",
    "    table_name='steel_cleaned',\n",
    "    agg_column='Usage_kWh',\n",
    "    db_path=\"../../data/steel.duckdb\"\n",
    ")\n",
    "\n",
    "df_weekend"
   ]
  },
  {
   "cell_type": "markdown",
   "metadata": {},
   "source": [
    "## 6. Análisis Personalizado\n",
    "\n",
    "Usa esta celda para escribir tus propios queries SQL usando `quick_query()`:"
   ]
  },
  {
   "cell_type": "code",
   "execution_count": 14,
   "metadata": {},
   "outputs": [
    {
     "name": "stderr",
     "output_type": "stream",
     "text": [
      "INFO:src.data.load_to_duckdb:✅ Connected to DuckDB: ../../data/steel.duckdb\n",
      "INFO:src.data.load_to_duckdb:✅ Query executed: 31 rows returned\n"
     ]
    },
    {
     "data": {
      "text/html": [
       "<div><style>\n",
       ".dataframe > thead > tr,\n",
       ".dataframe > tbody > tr {\n",
       "  text-align: right;\n",
       "  white-space: pre-wrap;\n",
       "}\n",
       "</style>\n",
       "<small>shape: (31, 4)</small><table border=\"1\" class=\"dataframe\"><thead><tr><th>Load_Type</th><th>Day_of_week</th><th>count</th><th>avg_usage</th></tr><tr><td>str</td><td>str</td><td>i64</td><td>f64</td></tr></thead><tbody><tr><td>&quot;Light_Load&quot;</td><td>&quot;Friday&quot;</td><td>2200</td><td>13.36</td></tr><tr><td>&quot;Light_Load&quot;</td><td>&quot;Monday&quot;</td><td>2446</td><td>10.47</td></tr><tr><td>&quot;Light_Load&quot;</td><td>&quot;Nan&quot;</td><td>8</td><td>3.41</td></tr><tr><td>&quot;Light_Load&quot;</td><td>&quot;Saturday&quot;</td><td>2830</td><td>8.38</td></tr><tr><td>&quot;Light_Load&quot;</td><td>&quot;Sunday&quot;</td><td>3991</td><td>5.47</td></tr><tr><td>&hellip;</td><td>&hellip;</td><td>&hellip;</td><td>&hellip;</td></tr><tr><td>&quot;Nan&quot;</td><td>&quot;Saturday&quot;</td><td>4</td><td>27.18</td></tr><tr><td>&quot;Nan&quot;</td><td>&quot;Sunday&quot;</td><td>1</td><td>5.0</td></tr><tr><td>&quot;Nan&quot;</td><td>&quot;Thursday&quot;</td><td>4</td><td>12.21</td></tr><tr><td>&quot;Nan&quot;</td><td>&quot;Tuesday&quot;</td><td>1</td><td>82.55</td></tr><tr><td>&quot;Nan&quot;</td><td>&quot;Wednesday&quot;</td><td>3</td><td>48.72</td></tr></tbody></table></div>"
      ],
      "text/plain": [
       "shape: (31, 4)\n",
       "┌────────────┬─────────────┬───────┬───────────┐\n",
       "│ Load_Type  ┆ Day_of_week ┆ count ┆ avg_usage │\n",
       "│ ---        ┆ ---         ┆ ---   ┆ ---       │\n",
       "│ str        ┆ str         ┆ i64   ┆ f64       │\n",
       "╞════════════╪═════════════╪═══════╪═══════════╡\n",
       "│ Light_Load ┆ Friday      ┆ 2200  ┆ 13.36     │\n",
       "│ Light_Load ┆ Monday      ┆ 2446  ┆ 10.47     │\n",
       "│ Light_Load ┆ Nan         ┆ 8     ┆ 3.41      │\n",
       "│ Light_Load ┆ Saturday    ┆ 2830  ┆ 8.38      │\n",
       "│ Light_Load ┆ Sunday      ┆ 3991  ┆ 5.47      │\n",
       "│ …          ┆ …           ┆ …     ┆ …         │\n",
       "│ Nan        ┆ Saturday    ┆ 4     ┆ 27.18     │\n",
       "│ Nan        ┆ Sunday      ┆ 1     ┆ 5.0       │\n",
       "│ Nan        ┆ Thursday    ┆ 4     ┆ 12.21     │\n",
       "│ Nan        ┆ Tuesday     ┆ 1     ┆ 82.55     │\n",
       "│ Nan        ┆ Wednesday   ┆ 3     ┆ 48.72     │\n",
       "└────────────┴─────────────┴───────┴───────────┘"
      ]
     },
     "execution_count": 14,
     "metadata": {},
     "output_type": "execute_result"
    }
   ],
   "source": [
    "# Tu query personalizado aquí usando quick_query\n",
    "custom_query = \"\"\"\n",
    "    SELECT\n",
    "        Load_Type,\n",
    "        Day_of_week,\n",
    "        COUNT(*) as count,\n",
    "        ROUND(AVG(Usage_kWh), 2) as avg_usage\n",
    "    FROM steel_cleaned\n",
    "    GROUP BY Load_Type, Day_of_week\n",
    "    ORDER BY Load_Type, Day_of_week\n",
    "\"\"\"\n",
    "\n",
    "df_custom = quick_query(custom_query, db_path=\"../../data/steel.duckdb\")\n",
    "df_custom"
   ]
  },
  {
   "cell_type": "markdown",
   "metadata": {},
   "source": [
    "## 7. Cerrar Conexión"
   ]
  },
  {
   "cell_type": "code",
   "execution_count": 15,
   "metadata": {},
   "outputs": [
    {
     "name": "stdout",
     "output_type": "stream",
     "text": [
      "✅ Conexión cerrada\n"
     ]
    }
   ],
   "source": [
    "# Siempre cerrar la conexión al terminar\n",
    "conn.close()\n",
    "print(\"✅ Conexión cerrada\")"
   ]
  },
  {
   "cell_type": "markdown",
   "metadata": {},
   "source": [
    "## Resumen\n",
    "\n",
    "Este notebook demostró:\n",
    "1. ✅ Conexión a base de datos DuckDB usando funciones reutilizables\n",
    "2. ✅ Carga de datos desde archivos Parquet\n",
    "3. ✅ Ejecución de queries SQL con funciones de `src/utils/duckdb_utils.py`\n",
    "4. ✅ Conversión de resultados a Polars DataFrames\n",
    "5. ✅ Visualización de resultados de queries\n",
    "6. ✅ Queries analíticos avanzados\n",
    "\n",
    "**Funciones Reutilizables Usadas:**\n",
    "- `get_connection()` - Conexión a DB\n",
    "- `quick_query()` - Query rápido sin manejar conexión\n",
    "- `get_stats_by_column()` - Estadísticas por columna\n",
    "- `get_temporal_stats()` - Análisis temporal\n",
    "- `get_top_n()` - Top N registros\n",
    "- `get_correlation()` - Correlaciones\n",
    "- `get_weekend_vs_weekday_stats()` - Comparación fin de semana\n",
    "\n",
    "**Próximos Pasos:**\n",
    "- Usar DuckDB para queries de feature engineering\n",
    "- Crear views para queries comunes\n",
    "- Exportar resultados para entrenamiento de modelos"
   ]
  }
 ],
 "metadata": {
  "kernelspec": {
   "display_name": "energy-optimization-copilot-dJLxt5P_-py3.12",
   "language": "python",
   "name": "python3"
  },
  "language_info": {
   "codemirror_mode": {
    "name": "ipython",
    "version": 3
   },
   "file_extension": ".py",
   "mimetype": "text/x-python",
   "name": "python",
   "nbconvert_exporter": "python",
   "pygments_lexer": "ipython3",
   "version": "3.12.6"
  }
 },
 "nbformat": 4,
 "nbformat_minor": 4
}
